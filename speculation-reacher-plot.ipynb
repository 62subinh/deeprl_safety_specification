{
 "cells": [
  {
   "cell_type": "code",
   "execution_count": null,
   "metadata": {},
   "outputs": [],
   "source": [
    "%load_ext autoreload\n",
    "%autoreload 2\n",
    "%matplotlib inline"
   ]
  },
  {
   "cell_type": "code",
   "execution_count": null,
   "metadata": {},
   "outputs": [],
   "source": [
    "from tensorboard.backend.event_processing.event_accumulator import EventAccumulator\n",
    "from cplex.exceptions import CplexSolverError\n",
    "import matplotlib\n",
    "matplotlib.rcParams['figure.dpi'] = 300\n",
    "matplotlib.rcParams['pdf.fonttype'] = 42\n",
    "matplotlib.rcParams['ps.fonttype'] = 42\n",
    "import matplotlib.pyplot as plt\n",
    "import torch.nn as nn\n",
    "import numpy as np\n",
    "import pickle\n",
    "import os\n",
    "import seaborn as sns\n",
    "sns.set()"
   ]
  },
  {
   "cell_type": "markdown",
   "metadata": {},
   "source": [
    "# Reacher"
   ]
  },
  {
   "cell_type": "markdown",
   "metadata": {},
   "source": [
    "* Load experiment setups."
   ]
  },
  {
   "cell_type": "code",
   "execution_count": null,
   "metadata": {
    "scrolled": true
   },
   "outputs": [],
   "source": [
    "env_name = 'reacher'\n",
    "episode_length = 300\n",
    "confidence = 0.8\n",
    "grid_points = 21\n",
    "\n",
    "name = '{}-{}'.format(int(episode_length), env_name)"
   ]
  },
  {
   "cell_type": "code",
   "execution_count": null,
   "metadata": {},
   "outputs": [],
   "source": [
    "steps = int(2e6)\n",
    "log_interval = int(1e4)\n",
    "save_interval= int(1e5)"
   ]
  },
  {
   "cell_type": "code",
   "execution_count": null,
   "metadata": {},
   "outputs": [],
   "source": [
    "PI = np.pi\n",
    "ans = []\n",
    "\n",
    "for param_2 in range(grid_points):\n",
    "    pos_2 = 2 * PI * param_2 / (grid_points - 1) - PI\n",
    "    for param_1 in range(grid_points):\n",
    "        pos_1 = 2 * PI * param_1 / (grid_points - 1) - PI\n",
    "        \n",
    "        safety = (np.abs(0.1 * np.sin(pos_1) + 0.11 * np.sin(pos_1 + pos_2)) <= 0.1) * 1.\n",
    "        ans.append(safety)\n",
    "\n",
    "ans = np.array(ans)\n",
    "max_safe_set = np.sum(ans >= confidence)"
   ]
  },
  {
   "cell_type": "code",
   "execution_count": null,
   "metadata": {},
   "outputs": [],
   "source": [
    "baseline_dir = os.path.join(name, 'ddpg-initial')\n",
    "baseline_step = int(0)\n",
    "\n",
    "bl_map = np.load(os.path.join(baseline_dir, '{}-reachability-map.npz'.format(int(baseline_step))))['arr_0']"
   ]
  },
  {
   "cell_type": "code",
   "execution_count": null,
   "metadata": {},
   "outputs": [],
   "source": [
    "init_found = np.sum((bl_map <= 1. - confidence) * (ans >= confidence))\n",
    "init_notsafe = np.sum((bl_map <= 1. - confidence) * (ans < confidence))\n",
    "init_error = np.mean((bl_map - ans) ** 2)"
   ]
  },
  {
   "cell_type": "markdown",
   "metadata": {},
   "source": [
    "* List of seeds, figure-related arguments."
   ]
  },
  {
   "cell_type": "code",
   "execution_count": null,
   "metadata": {},
   "outputs": [],
   "source": [
    "bl_seeds = list(range(8001, 8011))\n",
    "lyap_seeds = list(range(8001, 8011))\n",
    "exp_seeds = list(range(8201, 8210)) + [8211]"
   ]
  },
  {
   "cell_type": "code",
   "execution_count": null,
   "metadata": {},
   "outputs": [],
   "source": [
    "fig_kwargs = {'format': 'eps',\n",
    "              'dpi': 300,\n",
    "              'rasterized': True,\n",
    "              'bbox_inches': 'tight',\n",
    "              'pad_inches': 0,\n",
    "              'frameon': False,\n",
    "             }\n",
    "# Figsize default: (6., 4.); do not change this"
   ]
  },
  {
   "cell_type": "code",
   "execution_count": null,
   "metadata": {},
   "outputs": [],
   "source": []
  },
  {
   "cell_type": "markdown",
   "metadata": {},
   "source": [
    "## Plot approximated reachability"
   ]
  },
  {
   "cell_type": "code",
   "execution_count": null,
   "metadata": {},
   "outputs": [],
   "source": [
    "ckpts = int(steps // save_interval)\n",
    "xaxis = np.array(range(0, ckpts+1)) * save_interval"
   ]
  },
  {
   "cell_type": "code",
   "execution_count": null,
   "metadata": {},
   "outputs": [],
   "source": [
    "ans = ans.reshape((ans.size,))"
   ]
  },
  {
   "cell_type": "code",
   "execution_count": null,
   "metadata": {},
   "outputs": [],
   "source": [
    "def get_stats(seeds, dir_name):\n",
    "\n",
    "    error = []\n",
    "    found = []\n",
    "    notsafe = []\n",
    "    cover = []\n",
    "\n",
    "    for seed in seeds:\n",
    "        map_prev = np.load(os.path.join(baseline_dir, '{}-reachability-map.npz'.format(int(baseline_step))))['arr_0']\n",
    "        for i in range(1, ckpts+1):\n",
    "            map_now = np.load(os.path.join(name, '{}-{}'.format(dir_name, seed),\n",
    "                                           '{}-reachability-map.npz'.format(int(save_interval * i))))['arr_0']\n",
    "            found.append(np.sum((map_now <= 1. - confidence) * (ans >= confidence)))\n",
    "            notsafe.append( np.sum((map_now <= 1. - confidence) * (ans < confidence)))\n",
    "            error.append(np.mean((map_now - ans) ** 2))\n",
    "            cover.append( np.sum((map_now  <= 1. - confidence) * (map_prev <= 1. - confidence)) / np.sum(map_prev <= 1. - confidence) )\n",
    "\n",
    "            map_prev[:] = map_now[:]\n",
    "            del map_now\n",
    "        del map_prev\n",
    "\n",
    "    error = np.array(error).reshape((len(seeds), ckpts))\n",
    "    found = np.array(found).reshape((len(seeds), ckpts))\n",
    "    notsafe = np.array(notsafe).reshape((len(seeds), ckpts))\n",
    "    cover = np.array(cover).reshape((len(seeds), ckpts))\n",
    "    \n",
    "    return error, found, notsafe, cover"
   ]
  },
  {
   "cell_type": "code",
   "execution_count": null,
   "metadata": {},
   "outputs": [],
   "source": [
    "b1_error, b1_found, b1_notsafe, b1_cover = get_stats(bl_seeds, 'spec-def-ddpg')# double Q, double replay"
   ]
  },
  {
   "cell_type": "code",
   "execution_count": null,
   "metadata": {},
   "outputs": [],
   "source": [
    "l1_error, l1_found, l1_notsafe, l1_cover = get_stats(lyap_seeds, 'spec-lyap-ddpg')# double Q"
   ]
  },
  {
   "cell_type": "code",
   "execution_count": null,
   "metadata": {},
   "outputs": [],
   "source": [
    "e1_error, e1_found, e1_notsafe, e1_cover = get_stats(exp_seeds, 'spec-exp-ddpg')# double Q, double replay, explorer only"
   ]
  },
  {
   "cell_type": "markdown",
   "metadata": {},
   "source": [
    "#### Show the result briefly."
   ]
  },
  {
   "cell_type": "code",
   "execution_count": null,
   "metadata": {},
   "outputs": [],
   "source": [
    "fig, axes = plt.subplots(1, 2, sharex=True, figsize=(10,3))\n",
    "\n",
    "#### Compare with the best.\n",
    "b1_mu = np.concatenate(([0], np.mean(b1_found, axis=0)), axis=0) / max_safe_set\n",
    "b1_std = np.concatenate(([0], np.std(b1_found, axis=0)), axis=0) / max_safe_set\n",
    "l1_mu = np.concatenate(([0], np.mean(l1_found, axis=0)), axis=0) / max_safe_set\n",
    "l1_std = np.concatenate(([0], np.std(l1_found, axis=0)), axis=0) / max_safe_set\n",
    "e1_mu = np.concatenate(([0], np.mean(e1_found, axis=0)), axis=0) / max_safe_set\n",
    "e1_std = np.concatenate(([0], np.std(e1_found, axis=0)), axis=0) / max_safe_set\n",
    "\n",
    "axes[0].fill_between(xaxis, b1_mu - b1_std, b1_mu + b1_std, alpha=0.25, color='teal')\n",
    "axes[0].fill_between(xaxis, l1_mu - l1_std, l1_mu + l1_std, alpha=0.25, color='coral')\n",
    "axes[0].fill_between(xaxis, e1_mu - e1_std, e1_mu + e1_std, alpha=0.25, color='mediumblue')\n",
    "axes[0].plot(xaxis, b1_mu, label='No Lyapunov', color='teal')\n",
    "axes[0].plot(xaxis, l1_mu, label='LSS', color='coral')\n",
    "axes[0].plot(xaxis, e1_mu, label='ESS', color='mediumblue')\n",
    "\n",
    "# b1_best = np.concatenate(([0], b1_found[np.argmax(b1_found[:, -1]), :]), axis=0) / max_safe_set\n",
    "# l1_best = np.concatenate(([0], l1_found[np.argmax(l1_found[:, -1]), :]), axis=0) / max_safe_set\n",
    "# e1_best = np.concatenate(([0], e1_found[np.argmax(e1_found[:, -1]), :]), axis=0) / max_safe_set\n",
    "# axes[0].plot(xaxis, b1_best, label='No Lyapunov', color='teal')\n",
    "# axes[0].plot(xaxis, l1_best, label='LSS', color='coral')\n",
    "# axes[0].plot(xaxis, e1_best, label='ESS', color='mediumblue')\n",
    "\n",
    "# axes[0].legend(ncol=3, loc='best')\n",
    "axes[0].set_xlabel('Steps')\n",
    "axes[0].set_title('Correct specification')\n",
    "axes[0].ticklabel_format(style='sci', scilimits=(-3,4), axis='both')\n",
    "axes[0].set_xlim(int(0. * save_interval), int(ckpts * save_interval))\n",
    "axes[0].set_ylim(-0.05, 1.05)\n",
    "\n",
    "#### Compare with the best.\n",
    "# b1_best = np.concatenate(([0], b1_notsafe[np.argmax(b1_found[:, -1]), :]), axis=0) / np.prod(ans.shape)\n",
    "# l1_best = np.concatenate(([0], l1_notsafe[np.argmax(l1_found[:, -1]), :]), axis=0) / np.prod(ans.shape)\n",
    "# e1_best = np.concatenate(([0], e1_notsafe[np.argmax(e1_found[:, -1]), :]), axis=0) / np.prod(ans.shape)\n",
    "# axes[1].plot(xaxis, b1_best, label='No Lyapunov', color='teal')\n",
    "# axes[1].plot(xaxis, l1_best, label='LSS', color='coral')\n",
    "# axes[1].plot(xaxis, e1_best, label='ESS', color='mediumblue')\n",
    "\n",
    "b1_mu = np.concatenate(([0], np.mean(b1_notsafe, axis=0)), axis=0) / np.prod(ans.shape)\n",
    "b1_std = np.concatenate(([0], np.std(b1_notsafe, axis=0)), axis=0) / np.prod(ans.shape)\n",
    "l1_mu = np.concatenate(([0], np.mean(l1_notsafe, axis=0)), axis=0) / np.prod(ans.shape)\n",
    "l1_std = np.concatenate(([0], np.std(l1_notsafe, axis=0)), axis=0) / np.prod(ans.shape)\n",
    "e1_mu = np.concatenate(([0], np.mean(e1_notsafe, axis=0)), axis=0) / np.prod(ans.shape)\n",
    "e1_std = np.concatenate(([0], np.std(e1_notsafe, axis=0)), axis=0) / np.prod(ans.shape)\n",
    "\n",
    "axes[1].fill_between(xaxis, b1_mu - b1_std, b1_mu + b1_std, alpha=0.25, color='teal')\n",
    "axes[1].fill_between(xaxis, l1_mu - l1_std, l1_mu + l1_std, alpha=0.25, color='coral')\n",
    "axes[1].fill_between(xaxis, e1_mu - e1_std, e1_mu + e1_std, alpha=0.25, color='mediumblue')\n",
    "axes[1].plot(xaxis, b1_mu, label='No Lyapunov', color='teal')\n",
    "axes[1].plot(xaxis, l1_mu, label='LSS', color='coral')\n",
    "axes[1].plot(xaxis, e1_mu, label='ESS', color='mediumblue')\n",
    "\n",
    "axes[1].legend(ncol=1, loc='best')\n",
    "axes[1].set_xlabel('Steps')\n",
    "axes[1].set_title('False positive specification')\n",
    "axes[1].ticklabel_format(style='sci', scilimits=(-3,4), axis='both')\n",
    "axes[1].set_xlim(int(0. * save_interval), int(ckpts * save_interval))\n",
    "axes[1].set_ylim(-0.025, 0.225)"
   ]
  },
  {
   "cell_type": "code",
   "execution_count": null,
   "metadata": {},
   "outputs": [],
   "source": []
  },
  {
   "cell_type": "markdown",
   "metadata": {},
   "source": [
    "#### Print figures."
   ]
  },
  {
   "cell_type": "code",
   "execution_count": null,
   "metadata": {},
   "outputs": [],
   "source": [
    "fig, ax = plt.subplots(1, 1, sharex=True)\n",
    "\n",
    "#### Compare with the best.\n",
    "# b1_best = np.concatenate(([0], b1_found[np.argmax(b1_found[:, -1]), :]), axis=0) / max_safe_set\n",
    "# l1_best = np.concatenate(([0], l1_found[np.argmax(l1_found[:, -1]), :]), axis=0) / max_safe_set\n",
    "# e1_best = np.concatenate(([0], e1_found[np.argmax(e1_found[:, -1]), :]), axis=0) / max_safe_set\n",
    "\n",
    "# ax.plot(xaxis, b1_best, label='No Lyapunov', color='teal')\n",
    "# ax.plot(xaxis, l1_best, label='LSS', color='coral')\n",
    "# ax.plot(xaxis, e1_best, label='ESS', color='mediumblue')\n",
    "\n",
    "#### Compare with the average.\n",
    "b1_mu = np.concatenate(([0], np.mean(b1_found, axis=0)), axis=0) / max_safe_set\n",
    "b1_std = np.concatenate(([0], np.std(b1_found, axis=0)), axis=0) / max_safe_set\n",
    "# b2_mu = np.concatenate(([0], np.mean(b2_found, axis=0)), axis=0) / max_safe_set\n",
    "# b2_std = np.concatenate(([0], np.std(b2_found, axis=0)), axis=0) / max_safe_set\n",
    "l1_mu = np.concatenate(([0], np.mean(l1_found, axis=0)), axis=0) / max_safe_set\n",
    "l1_std = np.concatenate(([0], np.std(l1_found, axis=0)), axis=0) / max_safe_set\n",
    "# l2_mu = np.concatenate(([0], np.mean(l2_found, axis=0)), axis=0) / max_safe_set\n",
    "# l2_std = np.concatenate(([0], np.std(l2_found, axis=0)), axis=0) / max_safe_set\n",
    "e1_mu = np.concatenate(([0], np.mean(e1_found, axis=0)), axis=0) / max_safe_set\n",
    "e1_std = np.concatenate(([0], np.std(e1_found, axis=0)), axis=0) / max_safe_set\n",
    "# e2_mu = np.concatenate(([0], np.mean(e2_found, axis=0)), axis=0) / max_safe_set\n",
    "# e2_std = np.concatenate(([0], np.std(e2_found, axis=0)), axis=0) / max_safe_set\n",
    "\n",
    "ax.fill_between(xaxis, b1_mu - b1_std, b1_mu + b1_std, alpha=0.25, color='teal')\n",
    "# ax.fill_between(xaxis, b2_mu - b2_std, b2_mu + b2_std, alpha=0.25, color='mediumseagreen')\n",
    "ax.fill_between(xaxis, l1_mu - l1_std, l1_mu + l1_std, alpha=0.25, color='coral')\n",
    "# ax.fill_between(xaxis, l2_mu - l2_std, l2_mu + l2_std, alpha=0.25, color='indianred')\n",
    "ax.fill_between(xaxis, e1_mu - e1_std, e1_mu + e1_std, alpha=0.25, color='mediumblue')\n",
    "# ax.fill_between(xaxis, e2_mu - e2_std, e2_mu + e2_std, alpha=0.25, color='slateblue')\n",
    "ax.plot(xaxis, b1_mu, label='No Lyapunov', color='teal')\n",
    "# ax.plot(xaxis, b2_mu, label='No Lyapunov ()', color='mediumseagreen')\n",
    "ax.plot(xaxis, l1_mu, label='LSS', color='coral')\n",
    "# ax.plot(xaxis, l2_mu, label='LSS ()', color='indianred')\n",
    "ax.plot(xaxis, e1_mu, label='ESS', color='mediumblue')\n",
    "# ax.plot(xaxis, e2_mu, label='ESS ()', color='slateblue')\n",
    "\n",
    "ax.legend(ncol=3, loc='best')\n",
    "# ax.legend(bbox_to_anchor=(1.025, 1.00), ncol=1, loc='best')\n",
    "# plt.xlabel('Steps (1 step=128 samples)')\n",
    "# plt.ylabel('Ratio of safe states found')\n",
    "ax.set_xlabel('Steps')\n",
    "ax.ticklabel_format(style='sci', scilimits=(-3,4), axis='both')\n",
    "ax.set_xlim(int(0. * save_interval), int(ckpts * save_interval))\n",
    "ax.set_ylim(-0.05, 1.05)\n",
    "# ax.set_rasterized(True)\n",
    "ax.set_rasterization_zorder(0)\n",
    "fig.set_dpi(300)\n",
    "fig.patch.set_alpha(0)\n",
    "fig.tight_layout()\n",
    "plt.savefig(os.path.join(name, '{}-spec-[safe_set]over[max_safe_set].pdf'.format(env_name)), format='pdf')"
   ]
  },
  {
   "cell_type": "code",
   "execution_count": null,
   "metadata": {},
   "outputs": [],
   "source": [
    "fig, ax = plt.subplots(1, 1, sharex=True)\n",
    "\n",
    "#### Compare with the best.\n",
    "# b1_best = np.concatenate(([0], b1_notsafe[np.argmax(b1_found[:, -1]), :]), axis=0) / np.prod(ans.shape)\n",
    "# l1_best = np.concatenate(([0], l1_notsafe[np.argmax(l1_found[:, -1]), :]), axis=0) / np.prod(ans.shape)\n",
    "# e1_best = np.concatenate(([0], e1_notsafe[np.argmax(e1_found[:, -1]), :]), axis=0) / np.prod(ans.shape)\n",
    "\n",
    "# ax.plot(xaxis, b1_best, label='No Lyapunov', color='teal')\n",
    "# ax.plot(xaxis, l1_best, label='LSS', color='coral')\n",
    "# ax.plot(xaxis, e1_best, label='ESS', color='mediumblue')\n",
    "\n",
    "#### Compare with the average.\n",
    "b1_mu = np.concatenate(([0], np.mean(b1_notsafe, axis=0)), axis=0) / np.prod(ans.shape)\n",
    "b1_std = np.concatenate(([0], np.std(b1_notsafe, axis=0)), axis=0) / np.prod(ans.shape)\n",
    "# b2_mu = np.concatenate(([0], np.mean(b2_notsafe, axis=0)), axis=0) / np.prod(ans.shape)\n",
    "# b2_std = np.concatenate(([0], np.std(b2_notsafe, axis=0)), axis=0) / np.prod(ans.shape)\n",
    "l1_mu = np.concatenate(([0], np.mean(l1_notsafe, axis=0)), axis=0) / np.prod(ans.shape)\n",
    "l1_std = np.concatenate(([0], np.std(l1_notsafe, axis=0)), axis=0) / np.prod(ans.shape)\n",
    "# l2_mu = np.concatenate(([0], np.mean(l2_notsafe, axis=0)), axis=0) / np.prod(ans.shape)\n",
    "# l2_std = np.concatenate(([0], np.std(l2_notsafe, axis=0)), axis=0) / np.prod(ans.shape)\n",
    "e1_mu = np.concatenate(([0], np.mean(e1_notsafe, axis=0)), axis=0) / np.prod(ans.shape)\n",
    "e1_std = np.concatenate(([0], np.std(e1_notsafe, axis=0)), axis=0) / np.prod(ans.shape)\n",
    "# e2_mu = np.concatenate(([0], np.mean(e2_notsafe, axis=0)), axis=0) / np.prod(ans.shape)\n",
    "# e2_std = np.concatenate(([0], np.std(e2_notsafe, axis=0)), axis=0) / np.prod(ans.shape)\n",
    "\n",
    "ax.fill_between(xaxis, b1_mu - b1_std, b1_mu + b1_std, alpha=0.25, color='teal')\n",
    "# ax.fill_between(xaxis, b2_mu - b2_std, b2_mu + b2_std, alpha=0.25, color='mediumseagreen')\n",
    "ax.fill_between(xaxis, l1_mu - l1_std, l1_mu + l1_std, alpha=0.25, color='coral')\n",
    "# ax.fill_between(xaxis, l2_mu - l2_std, l2_mu + l2_std, alpha=0.25, color='indianred')\n",
    "ax.fill_between(xaxis, e1_mu - e1_std, e1_mu + e1_std, alpha=0.25, color='mediumblue')\n",
    "# ax.fill_between(xaxis, e2_mu - e2_std, e2_mu + e2_std, alpha=0.25, color='slateblue')\n",
    "ax.plot(xaxis, b1_mu, label='No Lyapunov', color='teal')\n",
    "# ax.plot(xaxis, b2_mu, label='No Lyapunov ()', color='mediumseagreen')\n",
    "ax.plot(xaxis, l1_mu, label='LSS', color='coral')\n",
    "# ax.plot(xaxis, l2_mu, label='LSS ()', color='indianred')\n",
    "ax.plot(xaxis, e1_mu, label='ESS', color='mediumblue')\n",
    "# ax.plot(xaxis, e2_mu, label='ESS ()', color='slateblue')\n",
    "\n",
    "ax.legend(ncol=3, loc='best')\n",
    "# ax.legend(bbox_to_anchor=(1.025, 1.00), ncol=1, loc='best')\n",
    "# plt.xlabel('Steps (1 step=128 samples)')\n",
    "# plt.ylabel('Ratio of safe states found')\n",
    "plt.xlabel('Steps')\n",
    "ax.ticklabel_format(style='sci', scilimits=(-3,4), axis='both')\n",
    "plt.xlim(int(0. * save_interval), int(ckpts * save_interval))\n",
    "plt.ylim(-0.025, 0.225)\n",
    "# ax.set_rasterized(True)\n",
    "ax.set_rasterization_zorder(0)\n",
    "fig.set_dpi(300)\n",
    "fig.patch.set_alpha(0)\n",
    "fig.tight_layout()\n",
    "plt.savefig(os.path.join(name, '{}-spec-[false_positive_safe_set]over[state_space].pdf'.format(env_name)), format='pdf')"
   ]
  },
  {
   "cell_type": "code",
   "execution_count": null,
   "metadata": {},
   "outputs": [],
   "source": [
    "fig, ax = plt.subplots(1, 1, sharex=True)\n",
    "\n",
    "#### Compare with the best.\n",
    "# b1_best = np.concatenate(([0], b1_cover[np.argmax(b1_found[:, -1]), :]), axis=0)\n",
    "# l1_best = np.concatenate(([0], l1_cover[np.argmax(l1_found[:, -1]), :]), axis=0)\n",
    "# e1_best = np.concatenate(([0], e1_cover[np.argmax(e1_found[:, -1]), :]), axis=0)\n",
    "\n",
    "# ax.plot(xaxis, b1_best, label='No Lyapunov', color='teal')\n",
    "# ax.plot(xaxis, l1_best, label='LSS', color='coral')\n",
    "# ax.plot(xaxis, e1_best, label='ESS', color='mediumblue')\n",
    "\n",
    "#### Compare with the average.\n",
    "# b1_cover = np.ma.array(b1_cover, mask=np.isnan(b1_cover))\n",
    "# l1_cover = np.ma.array(l1_cover, mask=np.isnan(l1_cover))\n",
    "# e1_cover = np.ma.array(e1_cover, mask=np.isnan(e1_cover))\n",
    "\n",
    "# b1_mu = np.concatenate(([0], np.mean(b1_cover, axis=0)), axis=0)\n",
    "# b1_std = np.concatenate(([0], np.std(b1_cover, axis=0)), axis=0)\n",
    "# b2_mu = np.concatenate(([1], np.mean(b2_cover, axis=0)), axis=0)\n",
    "# b2_std = np.concatenate(([0], np.std(b2_cover, axis=0)), axis=0)\n",
    "# l1_mu = np.concatenate(([0], np.mean(l1_cover, axis=0)), axis=0)\n",
    "# l1_std = np.concatenate(([0], np.std(l1_cover, axis=0)), axis=0)\n",
    "# l2_mu = np.concatenate(([1], np.mean(l2_cover, axis=0)), axis=0)\n",
    "# l2_std = np.concatenate(([0], np.std(l2_cover, axis=0)), axis=0)\n",
    "# e1_mu = np.concatenate(([0], np.mean(e1_cover, axis=0)), axis=0)\n",
    "# e1_std = np.concatenate(([0], np.std(e1_cover, axis=0)), axis=0)\n",
    "# e2_mu = np.concatenate(([1], np.mean(e2_cover, axis=0)), axis=0)\n",
    "# e2_std = np.concatenate(([0], np.std(e2_cover, axis=0)), axis=0)\n",
    "\n",
    "# ax.fill_between(xaxis, b1_mu - b1_std, b1_mu + b1_std, alpha=0.25, color='teal')\n",
    "# ax.fill_between(xaxis, b2_mu - b2_std, b2_mu + b2_std, alpha=0.25, color='mediumseagreen')\n",
    "# ax.fill_between(xaxis, l1_mu - l1_std, l1_mu + l1_std, alpha=0.25, color='coral')\n",
    "# ax.fill_between(xaxis, l2_mu - l2_std, l2_mu + l2_std, alpha=0.25, color='indianred')\n",
    "# ax.fill_between(xaxis, e1_mu - e1_std, e1_mu + e1_std, alpha=0.25, color='mediumblue')\n",
    "# ax.fill_between(xaxis, e2_mu - e2_std, e2_mu + e2_std, alpha=0.25, color='slateblue')\n",
    "# ax.plot(xaxis, b1_mu, label='No Lyapunov', color='teal')\n",
    "# ax.plot(xaxis, b2_mu, label='No Lyapunov ()', color='mediumseagreen')\n",
    "# ax.plot(xaxis, l1_mu, label='LSS', color='coral')\n",
    "# ax.plot(xaxis, l2_mu, label='LSS ()', color='indianred')\n",
    "# ax.plot(xaxis, e1_mu, label='ESS', color='mediumblue')\n",
    "# ax.plot(xaxis, e2_mu, label='ESS ()', color='slateblue')\n",
    "\n",
    "ax.legend(ncol=3, loc='best')\n",
    "# ax.legend(bbox_to_anchor=(1.025, 1.00), ncol=1, loc='best')\n",
    "# plt.xlabel('Steps (1 step=128 samples)')\n",
    "# plt.ylabel('Ratio of safe states found')\n",
    "plt.xlabel('Steps')\n",
    "ax.ticklabel_format(style='sci', scilimits=(-3,4), axis='both')\n",
    "plt.xlim(int(0. * save_interval), int(ckpts * save_interval))\n",
    "plt.ylim(0.25, 1.05)\n",
    "# ax.set_rasterized(True)\n",
    "ax.set_rasterization_zorder(0)\n",
    "fig.set_dpi(300)\n",
    "fig.patch.set_alpha(0)\n",
    "fig.tight_layout()\n",
    "plt.savefig(os.path.join(name, '{}-spec-[cover_ratio].pdf'.format(env_name)), format='pdf')"
   ]
  },
  {
   "cell_type": "code",
   "execution_count": null,
   "metadata": {},
   "outputs": [],
   "source": []
  },
  {
   "cell_type": "markdown",
   "metadata": {},
   "source": [
    "## Plot average episode safety during learning"
   ]
  },
  {
   "cell_type": "code",
   "execution_count": null,
   "metadata": {},
   "outputs": [],
   "source": [
    "# Loading too much data is slow...\n",
    "tf_size_guidance = {\n",
    "    'compressedHistograms': 10,\n",
    "    'images': 0,\n",
    "    'scalars': 200,\n",
    "    'histograms': 1\n",
    "}\n",
    "\n",
    "ckpts = int(steps // log_interval)\n",
    "xaxis = np.array(range(0, ckpts+1)) * log_interval"
   ]
  },
  {
   "cell_type": "code",
   "execution_count": null,
   "metadata": {},
   "outputs": [],
   "source": [
    "init_safety = 0.#0.42"
   ]
  },
  {
   "cell_type": "code",
   "execution_count": null,
   "metadata": {},
   "outputs": [],
   "source": [
    "def get_curves(seeds, dir_name):\n",
    "    \n",
    "    epi_safety = np.zeros((len(seeds), ckpts,))\n",
    "    for idx in range(len(seeds)):\n",
    "        dn = os.path.join(name, '{}-{}'.format(dir_name, seeds[idx]), 'tb')\n",
    "        tbs = [f for f in os.listdir(dn) if os.path.isfile(os.path.join(dn, f))]\n",
    "        for tb in tbs:\n",
    "            event_acc = EventAccumulator(os.path.join(dn, tb), tf_size_guidance)\n",
    "            event_acc.Reload()\n",
    "\n",
    "            # Show all tags in the log file\n",
    "            #print(event_acc.Tags())\n",
    "\n",
    "            average_safety = event_acc.Scalars('train/average_safety')\n",
    "            for ldx in range(len(average_safety)):\n",
    "                n = average_safety[ldx][1]\n",
    "                if n > steps:\n",
    "                    continue\n",
    "                else:\n",
    "                    n = n // log_interval\n",
    "                    epi_safety[idx][n-1] = average_safety[ldx][2] # value\n",
    "            del event_acc\n",
    "            del average_safety\n",
    "            \n",
    "    return epi_safety"
   ]
  },
  {
   "cell_type": "code",
   "execution_count": null,
   "metadata": {},
   "outputs": [],
   "source": [
    "b1_safety = get_curves(bl_seeds, 'spec-def-ddpg')"
   ]
  },
  {
   "cell_type": "code",
   "execution_count": null,
   "metadata": {},
   "outputs": [],
   "source": [
    "l1_safety = get_curves(lyap_seeds, 'spec-lyap-ddpg')"
   ]
  },
  {
   "cell_type": "code",
   "execution_count": null,
   "metadata": {},
   "outputs": [],
   "source": [
    "e1_safety = get_curves(exp_seeds, 'spec-exp-ddpg')"
   ]
  },
  {
   "cell_type": "code",
   "execution_count": null,
   "metadata": {},
   "outputs": [],
   "source": [
    "fig, ax = plt.subplots(1, 1, sharex=True)\n",
    "\n",
    "b1_mu = np.concatenate(([init_safety], np.mean(b1_safety, axis=0)), axis=0)\n",
    "b1_std = np.concatenate(([0], np.std(b1_safety, axis=0)), axis=0)\n",
    "# b2_mu = np.concatenate(([init_safety], np.mean(b2_safety, axis=0)), axis=0)\n",
    "# b2_std = np.concatenate(([0], np.std(b2_safety, axis=0)), axis=0)\n",
    "l1_mu = np.concatenate(([init_safety], np.mean(l1_safety, axis=0)), axis=0)\n",
    "l1_std = np.concatenate(([0], np.std(l1_safety, axis=0)), axis=0)\n",
    "# l2_mu = np.concatenate(([init_safety], np.mean(l2_safety, axis=0)), axis=0)\n",
    "# l2_std = np.concatenate(([0], np.std(l2_safety, axis=0)), axis=0)\n",
    "e1_mu = np.concatenate(([init_safety], np.mean(e1_safety, axis=0)), axis=0)\n",
    "e1_std = np.concatenate(([0], np.std(e1_safety, axis=0)), axis=0)\n",
    "# e2_mu = np.concatenate(([init_safety], np.mean(e2_safety, axis=0)), axis=0)\n",
    "# e2_std = np.concatenate(([0], np.std(e2_safety, axis=0)), axis=0)\n",
    "\n",
    "ax.fill_between(xaxis, b1_mu - b1_std, b1_mu + b1_std, alpha=0.25, color='teal')\n",
    "# ax.fill_between(xaxis, b2_mu - b2_std, b2_mu + b2_std, alpha=0.25, color='mediumseagreen')\n",
    "ax.fill_between(xaxis, l1_mu - l1_std, l1_mu + l1_std, alpha=0.25, color='coral')\n",
    "# ax.fill_between(xaxis, l2_mu - l2_std, l2_mu + l2_std, alpha=0.25, color='indianred')\n",
    "ax.fill_between(xaxis, e1_mu - e1_std, e1_mu + e1_std, alpha=0.25, color='mediumblue')\n",
    "# ax.fill_between(xaxis, e2_mu - e2_std, e2_mu + e2_std, alpha=0.25, color='slateblue')\n",
    "ax.plot(xaxis, b1_mu, label='No Lyapunov', color='teal')\n",
    "# ax.plot(xaxis, b2_mu, label='No Lyapunov ()', color='mediumseagreen')\n",
    "ax.plot(xaxis, l1_mu, label='LSS', color='coral')\n",
    "# ax.plot(xaxis, l2_mu, label='LSS ()', color='indianred')\n",
    "ax.plot(xaxis, e1_mu, label='ESS', color='mediumblue')\n",
    "# ax.plot(xaxis, e2_mu, label='ESS ()', color='slateblue')\n",
    "\n",
    "ax.plot(xaxis, confidence * np.ones(ckpts+1), 'r--')\n",
    "\n",
    "ax.legend(ncol=3, loc='lower right')\n",
    "# ax.legend(bbox_to_anchor=(1.025, 1.00), ncol=1, loc='best')\n",
    "# plt.xlabel('Steps (1 step=128 samples)')\n",
    "# plt.ylabel('Average episode safety')\n",
    "plt.xlabel('Steps')\n",
    "ax.ticklabel_format(style='sci', scilimits=(-3,4), axis='both')\n",
    "plt.xlim(log_interval, ckpts*log_interval)\n",
    "plt.ylim(.45, 1.05)\n",
    "# ax.set_rasterized(True)\n",
    "ax.set_rasterization_zorder(0)\n",
    "fig.set_dpi(300)\n",
    "fig.patch.set_alpha(0)\n",
    "fig.tight_layout()\n",
    "plt.savefig(os.path.join(name, '{}-spec-[average_episode_safety].pdf'.format(env_name)), format='pdf')"
   ]
  },
  {
   "cell_type": "code",
   "execution_count": null,
   "metadata": {},
   "outputs": [],
   "source": []
  },
  {
   "cell_type": "markdown",
   "metadata": {},
   "source": [
    "### Get Lambda if necessary."
   ]
  },
  {
   "cell_type": "code",
   "execution_count": null,
   "metadata": {},
   "outputs": [],
   "source": [
    "def get_lambda(seeds, dir_name):\n",
    "    \n",
    "    epi_safety = np.zeros((len(seeds), ckpts,))\n",
    "    for idx in range(len(seeds)):\n",
    "        dn = os.path.join(name, '{}-{}'.format(dir_name, seeds[idx]), 'tb')\n",
    "        tbs = [f for f in os.listdir(dn) if os.path.isfile(os.path.join(dn, f))]\n",
    "        for tb in tbs:\n",
    "            event_acc = EventAccumulator(os.path.join(dn, tb), tf_size_guidance)\n",
    "            event_acc.Reload()\n",
    "\n",
    "            # Show all tags in the log file\n",
    "            #print(event_acc.Tags())\n",
    "\n",
    "            average_safety = event_acc.Scalars('train/exploratory_lambda')\n",
    "            for ldx in range(len(average_safety)):\n",
    "                n = average_safety[ldx][1]\n",
    "                if n > steps:\n",
    "                    continue\n",
    "                else:\n",
    "                    n = n // log_interval\n",
    "                    epi_safety[idx][n-1] = average_safety[ldx][2] # value\n",
    "            del event_acc\n",
    "            del average_safety\n",
    "            \n",
    "    return epi_safety"
   ]
  },
  {
   "cell_type": "code",
   "execution_count": null,
   "metadata": {},
   "outputs": [],
   "source": [
    "_lambda = get_lambda(list(range(7001, 7002)), 'spec-exp-ddpg')# double Q, no target Q networks"
   ]
  },
  {
   "cell_type": "code",
   "execution_count": null,
   "metadata": {},
   "outputs": [],
   "source": [
    "fig, ax = plt.subplots(1, 1, sharex=True)\n",
    "\n",
    "_mu = np.concatenate(([1.], np.mean(_lambda, axis=0)), axis=0)\n",
    "_std = np.concatenate(([0], np.std(_lambda, axis=0)), axis=0)\n",
    "\n",
    "ax.fill_between(xaxis, _mu - _std, _mu + _std, alpha=0.25, color='blue')\n",
    "ax.plot(xaxis, _mu, label='ESS (Double Q)', color='blue')\n",
    "\n",
    "ax.legend(bbox_to_anchor=(1.025, 1.00), ncol=1, loc='best')\n",
    "# plt.xlabel('Steps (1 step=128 samples)')\n",
    "# plt.ylabel('Average episode safety')\n",
    "plt.xlabel('Steps')\n",
    "ax.ticklabel_format(style='sci', scilimits=(-3,4), axis='both')\n",
    "plt.xlim(log_interval, ckpts*log_interval)\n",
    "# plt.ylim(-.05, 1.05)\n",
    "ax.set_rasterized(True)\n",
    "ax.set_rasterization_zorder(0)\n",
    "fig.set_dpi(300)\n",
    "fig.patch.set_alpha(0)\n",
    "fig.tight_layout()plt.savefig(os.path.join(name, '{}-spec-[episode_lambda].eps'.format(env_name)), format='eps')"
   ]
  },
  {
   "cell_type": "code",
   "execution_count": null,
   "metadata": {},
   "outputs": [],
   "source": []
  },
  {
   "cell_type": "markdown",
   "metadata": {},
   "source": [
    "## Visualize."
   ]
  },
  {
   "cell_type": "code",
   "execution_count": null,
   "metadata": {},
   "outputs": [],
   "source": [
    "ans = np.array(ans).reshape((grid_points, grid_points))"
   ]
  },
  {
   "cell_type": "code",
   "execution_count": null,
   "metadata": {},
   "outputs": [],
   "source": [
    "def get_reachability(name, logdir, seeds, ckpts, reshape=True, reference=None):\n",
    "    reachability_list = []\n",
    "    for seed in seeds:\n",
    "        tmp = []\n",
    "        for i in range(1, ckpts+1):\n",
    "            a = np.load(os.path.join(name, '{}-{}'.format(logdir, seed),\n",
    "                                     '{}-reachability-map.npz'.format(int(save_interval * i))))['arr_0']\n",
    "            tmp.append(a)\n",
    "            del a\n",
    "        tmp = np.array(tmp)\n",
    "        reachability_list.append(tmp)\n",
    "    if reference is None:\n",
    "        reachability_list = np.array(reachability_list).mean(0)\n",
    "    else:\n",
    "        idx = np.argmax(reference[:, -1])\n",
    "        reachability_list = np.array(reachability_list)[idx, ...]\n",
    "    if reshape:\n",
    "        try:\n",
    "            reachability_list = reachability_list.reshape((ckpts, grid_points, grid_points))\n",
    "        except ValueError:\n",
    "            print(\"Reshape unavailable.\")\n",
    "    return reachability_list"
   ]
  },
  {
   "cell_type": "code",
   "execution_count": null,
   "metadata": {},
   "outputs": [],
   "source": [
    "ckpts = int(steps // save_interval)\n",
    "xaxis = save_interval * np.array(range(1, ckpts+1))#(np.array(range(1, ckpts+1))-0.5)"
   ]
  },
  {
   "cell_type": "code",
   "execution_count": null,
   "metadata": {},
   "outputs": [],
   "source": [
    "bl_list = get_reachability(name, 'spec-def-ddpg', bl_seeds, ckpts, reshape=True, reference=b1_found)\n",
    "lyap_list = get_reachability(name, 'spec-lyap-ddpg', lyap_seeds, ckpts, reshape=True, reference=l1_found)\n",
    "exp_list = get_reachability(name, 'spec-exp-ddpg', exp_seeds, ckpts, reshape=True, reference=e1_found)"
   ]
  },
  {
   "cell_type": "code",
   "execution_count": null,
   "metadata": {},
   "outputs": [],
   "source": [
    "idx = ckpts"
   ]
  },
  {
   "cell_type": "code",
   "execution_count": null,
   "metadata": {},
   "outputs": [],
   "source": [
    "fig, ax = plt.subplots(1,1)\n",
    "# Show False-positive and True-positive altogether.\n",
    "img = plt.imshow((1.-bl_list[idx-1] >= confidence) * (ans.reshape((grid_points, grid_points)) >= confidence)\n",
    "                 + (1.-bl_list[idx-1] >= confidence) * (ans.reshape((grid_points, grid_points)) < confidence) * 0.5,\n",
    "                 cmap='inferno', extent=[-180., +180., +180., -180.,], aspect=1.)\n",
    "#img = plt.imshow(1.-bl_list[idx-1], cmap='plasma', extent=[-180., +180., +180., -180.,], aspect=1.)\n",
    "ax.set_xlabel('Angle 1 (degree)')# center\n",
    "ax.set_xticks(np.arange(-180., 180.+1, 60.))\n",
    "ax.set_ylabel('Angle 2 (degree)')# arm tip\n",
    "ax.set_yticks(np.arange(-180., 180.+1, 60.))\n",
    "ax.get_yaxis().set_visible(False)\n",
    "\n",
    "plt.clim(0., 1.)\n",
    "# fig.colorbar(img)\n",
    "plt.grid(False)\n",
    "fig.set_dpi(300)\n",
    "fig.patch.set_facecolor('none')\n",
    "fig.patch.set_alpha(0)\n",
    "fig.tight_layout()\n",
    "ax.patch.set_facecolor('none')\n",
    "ax.patch.set_alpha(0)\n",
    "fig.savefig(os.path.join(name, '{}-spec-visualize-def-{}.pdf'.format(env_name, save_interval * idx)),\n",
    "            format='pdf', facecolor=fig.get_facecolor(), edgecolor='none', bbox_inches='tight')"
   ]
  },
  {
   "cell_type": "code",
   "execution_count": null,
   "metadata": {},
   "outputs": [],
   "source": [
    "fig, ax = plt.subplots(1,1)\n",
    "img = plt.imshow((1.-lyap_list[idx-1] >= confidence) * (ans.reshape((grid_points, grid_points)) >= confidence)\n",
    "                 + (1.-lyap_list[idx-1] >= confidence) * (ans.reshape((grid_points, grid_points)) < confidence) * 0.5,\n",
    "                 cmap='inferno', extent=[-180., +180., +180., -180.,], aspect=1.)\n",
    "#img = plt.imshow(1.-lyap_list[idx-1], cmap='plasma', extent=[-180., +180., +180., -180.,], aspect=1.)\n",
    "ax.set_xlabel('Angle 1 (degree)')# center\n",
    "ax.set_xticks(np.arange(-180., 180.+1, 60.))\n",
    "ax.set_ylabel('Angle 2 (degree)')# arm tip\n",
    "ax.set_yticks(np.arange(-180., 180.+1, 60.))\n",
    "ax.get_yaxis().set_visible(False)\n",
    "\n",
    "plt.clim(0., 1.)\n",
    "# fig.colorbar(img)\n",
    "plt.grid(False)\n",
    "fig.set_dpi(300)\n",
    "fig.patch.set_facecolor('none')\n",
    "fig.patch.set_alpha(0)\n",
    "fig.tight_layout()\n",
    "ax.patch.set_facecolor('none')\n",
    "ax.patch.set_alpha(0)\n",
    "fig.savefig(os.path.join(name, '{}-spec-visualize-lyap-{}.pdf'.format(env_name, save_interval * idx)),\n",
    "            format='pdf', facecolor=fig.get_facecolor(), edgecolor='none', bbox_inches='tight')"
   ]
  },
  {
   "cell_type": "code",
   "execution_count": null,
   "metadata": {},
   "outputs": [],
   "source": [
    "fig, ax = plt.subplots(1,1)\n",
    "img = plt.imshow((1.-exp_list[idx-1] >= confidence) * (ans >= confidence)\n",
    "                 + (1.-exp_list[idx-1] >= confidence) * (ans < confidence) * 0.5,\n",
    "                 cmap='inferno', extent=[-180., +180., +180., -180.,], aspect=1.)\n",
    "#img = plt.imshow(1.-exp_list[ckpts-1], cmap='plasma', extent=[-180., +180., +180., -180.,], aspect=1.)\n",
    "ax.set_xlabel('Angle 1 (degree)')# center\n",
    "ax.set_xticks(np.arange(-180., 180.+1, 60.))\n",
    "ax.set_ylabel('Angle 2 (degree)')# arm tip\n",
    "ax.set_yticks(np.arange(-180., 180.+1, 60.))\n",
    "ax.get_yaxis().set_visible(False)\n",
    "\n",
    "plt.clim(0., 1.)\n",
    "# fig.colorbar(img)\n",
    "plt.grid(False)\n",
    "fig.set_dpi(300)\n",
    "fig.patch.set_facecolor('none')\n",
    "fig.patch.set_alpha(0)\n",
    "fig.tight_layout()\n",
    "ax.patch.set_facecolor('none')\n",
    "ax.patch.set_alpha(0)\n",
    "fig.savefig(os.path.join(name, '{}-spec-visualize-exp-{}.pdf'.format(env_name, save_interval * idx)),\n",
    "            format='pdf', facecolor=fig.get_facecolor(), edgecolor='none', bbox_inches='tight')"
   ]
  },
  {
   "cell_type": "code",
   "execution_count": null,
   "metadata": {},
   "outputs": [],
   "source": [
    "fig, ax = plt.subplots(1,1)\n",
    "img = plt.imshow((ans >= confidence), cmap='inferno', extent=[-180., +180., +180., -180.,], aspect=1.)\n",
    "#img = plt.imshow(ans, cmap='plasma', extent=[-180., +180., +180., -180.,], aspect=1.)\n",
    "ax.set_xlabel('Angle 1 (degree)')# center\n",
    "ax.set_xticks(np.arange(-180., 180.+1, 60.))\n",
    "ax.set_ylabel('Angle 2 (degree)')# arm tip\n",
    "ax.set_yticks(np.arange(-180., 180.+1, 60.))\n",
    "\n",
    "plt.clim(0., 1.)\n",
    "# fig.colorbar(img)\n",
    "plt.grid(False)\n",
    "fig.set_dpi(300)\n",
    "fig.patch.set_facecolor('none')\n",
    "fig.patch.set_alpha(0)\n",
    "fig.tight_layout()\n",
    "ax.patch.set_facecolor('none')\n",
    "ax.patch.set_alpha(0)\n",
    "plt.savefig(os.path.join(name, '{}-spec-visualize-answer.pdf'.format(env_name)),\n",
    "            format='pdf', facecolor=fig.get_facecolor(), edgecolor='none', bbox_inches='tight')"
   ]
  },
  {
   "cell_type": "code",
   "execution_count": null,
   "metadata": {},
   "outputs": [],
   "source": []
  }
 ],
 "metadata": {
  "kernelspec": {
   "display_name": "Python 3 (drl_mujoco)",
   "language": "python",
   "name": "drl_mujoco"
  },
  "language_info": {
   "codemirror_mode": {
    "name": "ipython",
    "version": 3
   },
   "file_extension": ".py",
   "mimetype": "text/x-python",
   "name": "python",
   "nbconvert_exporter": "python",
   "pygments_lexer": "ipython3",
   "version": "3.7.0"
  }
 },
 "nbformat": 4,
 "nbformat_minor": 4
}
