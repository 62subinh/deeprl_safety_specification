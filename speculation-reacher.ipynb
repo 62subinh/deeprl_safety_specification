{
 "cells": [
  {
   "cell_type": "code",
   "execution_count": null,
   "metadata": {},
   "outputs": [],
   "source": [
    "%load_ext autoreload\n",
    "%autoreload 2\n",
    "%matplotlib inline"
   ]
  },
  {
   "cell_type": "code",
   "execution_count": null,
   "metadata": {},
   "outputs": [],
   "source": [
    "from complex_envs.reacher import FixedReacherEnv\n",
    "\n",
    "import matplotlib.pyplot as plt\n",
    "import torch.nn as nn\n",
    "import numpy as np\n",
    "import pickle\n",
    "import os\n",
    "\n",
    "from lyapunov_reachability.speculation_ddpg import DefaultDDPG, ExplorerDDPG, DefaultBCQ, ExplorerBCQ, LyapunovDDPG, LyapExpDDPG\n",
    "from lyapunov_reachability.common.networks import Mlp, Cnn"
   ]
  },
  {
   "cell_type": "markdown",
   "metadata": {},
   "source": [
    "# Reacher"
   ]
  },
  {
   "cell_type": "code",
   "execution_count": null,
   "metadata": {
    "scrolled": true
   },
   "outputs": [],
   "source": [
    "episode_length = 300\n",
    "confidence = 0.8\n",
    "batch_size = 256\n",
    "gamma = 1. - 1e-3\n",
    "strict_done = True\n",
    "n = 11\n",
    "grid_points = 21\n",
    "replay_size = int(4e5)\n",
    "\n",
    "env = FixedReacherEnv()\n",
    "name = '{}-reacher'.format(int(episode_length))"
   ]
  },
  {
   "cell_type": "code",
   "execution_count": null,
   "metadata": {},
   "outputs": [],
   "source": [
    "steps = int(2e6)\n",
    "log_interval = int(1e4)\n",
    "save_interval= int(1e5)"
   ]
  },
  {
   "cell_type": "code",
   "execution_count": null,
   "metadata": {},
   "outputs": [],
   "source": [
    "# Without baseline,\n",
    "# baseline_dir = None\n",
    "# baseline_steps = None\n",
    "\n",
    "# ----\n",
    "baseline_dir = os.path.join(name, 'ddpg-initial')\n",
    "baseline_step = int(0)"
   ]
  },
  {
   "cell_type": "code",
   "execution_count": null,
   "metadata": {},
   "outputs": [],
   "source": [
    "seeds = list(range(1001, 1011))"
   ]
  },
  {
   "cell_type": "code",
   "execution_count": null,
   "metadata": {},
   "outputs": [],
   "source": []
  },
  {
   "cell_type": "markdown",
   "metadata": {},
   "source": [
    "### Default DDPG"
   ]
  },
  {
   "cell_type": "code",
   "execution_count": null,
   "metadata": {},
   "outputs": [],
   "source": [
    "for seed in seeds:\n",
    "    env.seed(seed)\n",
    "    bl = DefaultDDPG(\n",
    "        env, confidence, extractor=Mlp, extractor_params={'channels_': [400, 300], 'activ': 'relu'}, seed=seed, lr=1e-4,\n",
    "        batch_size=batch_size, gamma=gamma, grid_points=grid_points, strict_done=strict_done, gradient_clip=(5e3, 1e4), lr_ratio=.1,\n",
    "        noise_theta=0.1, noise_sigma=0.05, \n",
    "        replay_size=replay_size, replay_prioritized=False, replay_double=True, double=True,\n",
    "        baseline_dir=baseline_dir, baseline_step=baseline_step, save_dir=os.path.join(name, 'spec-def-ddpg-{}'.format(seed)))\n",
    "#     bl = DefaultBCQ(\n",
    "#         env, confidence, extractor=Mlp, extractor_params={'channels_': [256, 256], 'activ': 'relu'}, seed=seed, lr=1e-3, gamma=gamma,\n",
    "#         grid_points=grid_points, strict_done=strict_done, act_samples=10, baseline_dir=baseline_dir, baseline_step=baseline_step,\n",
    "#         save_dir=os.path.join(name, 'spec-bl-bcq-{}'.format(seed)))\n",
    "#     bl = DefaultBCQ.load(os.path.join(name, 'spec-bl-bcq-{}'.format(seed)), 0, env=env)\n",
    "    bl.run(steps, episode_length, log_interval=log_interval, save_interval=save_interval,)\n",
    "    del bl"
   ]
  },
  {
   "cell_type": "markdown",
   "metadata": {},
   "source": [
    "### Lyapunov DDPG"
   ]
  },
  {
   "cell_type": "code",
   "execution_count": null,
   "metadata": {},
   "outputs": [],
   "source": [
    "for seed in seeds:\n",
    "    env.seed(seed)\n",
    "    model = LyapunovDDPG(\n",
    "        env, confidence, extractor=Mlp, extractor_params={'channels_': [400, 300], 'activ': 'relu'}, seed=seed, lr=1e-4,\n",
    "        batch_size=batch_size, gamma=gamma, grid_points=grid_points, strict_done=strict_done, gradient_clip=(5e3, 1e4),\n",
    "        lr_ratio={'actor': 0.1, 'log_lambda':0.01}, target_ratio=0., noise_theta=0.1, noise_sigma=0.05, \n",
    "        replay_size=replay_size, replay_prioritized=False, replay_double=True,\n",
    "        baseline_dir=baseline_dir, baseline_step=baseline_step, save_dir=os.path.join(name, 'spec-lyap-ddpg-{}'.format(seed)))\n",
    "#     model = LyapunovDDPG.load(os.path.join(name, 'spec-bl-bcq-{}'.format(seed)), 0, env=env)\n",
    "    extra_args = {'eval_interval': None, 'eval_trials': 100}\n",
    "    model.run(steps, episode_length, log_interval=log_interval, save_interval=save_interval, **extra_args)\n",
    "    del model"
   ]
  },
  {
   "cell_type": "markdown",
   "metadata": {},
   "source": [
    "### Exploratory, or Lyapunov+Exploratory DDPG"
   ]
  },
  {
   "cell_type": "code",
   "execution_count": null,
   "metadata": {},
   "outputs": [],
   "source": [
    "# for seed in seeds:\n",
    "#     env.seed(seed)\n",
    "#     bl = LyapExpDDPG(\n",
    "#         env, confidence, extractor=Mlp, extractor_params={'channels_': [400, 300], 'activ': 'relu'}, seed=seed, lr=1e-4,\n",
    "#         batch_size=batch_size, gamma=gamma, grid_points=grid_points, strict_done=strict_done, replay_size=replay_size, replay_prioritized=False,\n",
    "#         target_ratio=0., noise_theta=0., noise_sigma=0., gradient_clip=(5e3, 1e4), lr_ratio=.5, safe_decay=1e-6,\n",
    "#         baseline_dir=baseline_dir, baseline_step=baseline_step, save_dir=os.path.join(name, 'spec-lyapexp-ddpg-{}'.format(seed)))\n",
    "#     extra_args = {'eval_interval': 10000, 'eval_trials': 100}\n",
    "#     bl.run(steps, episode_length, log_interval=log_interval, save_interval=save_interval, **extra_args)\n",
    "#     del bl"
   ]
  },
  {
   "cell_type": "code",
   "execution_count": null,
   "metadata": {
    "scrolled": true
   },
   "outputs": [],
   "source": [
    "for seed in seeds:\n",
    "    env.seed(seed)\n",
    "    model = ExplorerDDPG(\n",
    "        env, confidence, extractor=Mlp, extractor_params={'channels_': [400, 300], 'activ': 'relu'}, seed=seed, lr=1e-4,\n",
    "        batch_size=batch_size, gamma=gamma, grid_points=grid_points, strict_done=strict_done, gradient_clip=(5e3, 1e4),\n",
    "        lr_ratio={'actor': 0.1, 'expl_actor': 0.1, 'expl_log_lambda':0.01}, noise_theta=0.1, noise_sigma=0.05, \n",
    "        replay_size=replay_size, replay_prioritized=False, replay_double=True, target_ratio=0., safe_decay=1e-5,\n",
    "        baseline_dir=baseline_dir, baseline_step=baseline_step, save_dir=os.path.join(name, 'spec-exp-ddpg-{}'.format(seed)))\n",
    "#     model = ExplorerBCQ(\n",
    "#         env, confidence, extractor=Mlp, extractor_params={'channels_': [400, 300], 'activ': 'relu'}, seed=seed, lr=3e-4, gamma=gamma,\n",
    "#         grid_points=grid_points, strict_done=strict_done, act_samples=10, baseline_dir=baseline_dir, baseline_step=baseline_step,\n",
    "#         save_dir=os.path.join(name, 'safespec-exp-bcq-{}'.format(seed)))\n",
    "    extra_args = {'eval_interval': None, 'eval_trials': 100}\n",
    "    model.run(steps, episode_length, log_interval=log_interval, save_interval=save_interval, **extra_args)\n",
    "    del model"
   ]
  },
  {
   "cell_type": "code",
   "execution_count": null,
   "metadata": {},
   "outputs": [],
   "source": []
  },
  {
   "cell_type": "markdown",
   "metadata": {},
   "source": [
    "### Auxiliary code blocks for use."
   ]
  },
  {
   "cell_type": "markdown",
   "metadata": {},
   "source": [
    "* To create the virtual ''unsafe'' samples,"
   ]
  },
  {
   "cell_type": "code",
   "execution_count": null,
   "metadata": {},
   "outputs": [],
   "source": [
    "from lyapunov_reachability.common.replay import Replay\n",
    "\n",
    "virtual_memory_size = int(replay_size * (1. / confidence - 1.))\n",
    "virtual_memory = Replay(virtual_memory_size)\n",
    "\n",
    "for t in range(virtual_memory_size):\n",
    "    virtual_memory.store((\n",
    "        env.observation_space.sample(),\n",
    "        env.action_space.sample(),\n",
    "        env.observation_space.sample(),\n",
    "        1.,\n",
    "        0.,))\n",
    "\n",
    "with open(os.path.join(baseline_dir, \"{}-replay_reached\".format(baseline_step)), 'wb') as f:\n",
    "    pickle.dump(virtual_memory, f, pickle.HIGHEST_PROTOCOL)"
   ]
  },
  {
   "cell_type": "code",
   "execution_count": null,
   "metadata": {},
   "outputs": [],
   "source": []
  },
  {
   "cell_type": "markdown",
   "metadata": {},
   "source": [
    "* To train the baseline,"
   ]
  },
  {
   "cell_type": "code",
   "execution_count": null,
   "metadata": {},
   "outputs": [],
   "source": [
    "# To train baseline,\n",
    "ddpg = DefaultDDPG(\n",
    "    env, confidence, extractor=Mlp, extractor_params={'channels_': [400, 300], 'activ': 'relu'}, seed=1234, lr=5e-4,\n",
    "    gamma=gamma, grid_points=grid_points, strict_done=strict_done, replay_size=replay_size, noise_theta=0., noise_sigma=0.,\n",
    "    save_dir=os.path.join(name, 'ddpg-initial'))\n",
    "ddpg.run(baseline_step, episode_length, log_interval=log_interval, save_interval=save_interval,)\n",
    "del ddpg"
   ]
  },
  {
   "cell_type": "code",
   "execution_count": null,
   "metadata": {},
   "outputs": [],
   "source": []
  },
  {
   "cell_type": "markdown",
   "metadata": {},
   "source": [
    "* To test the trained model,"
   ]
  },
  {
   "cell_type": "code",
   "execution_count": null,
   "metadata": {},
   "outputs": [],
   "source": [
    "seed = 9999\n",
    "model =\\\n",
    "    LyapExpDDPG.load(os.path.join(name, 'spec-lyapexp-ddpg-{}'.format(seed)), steps, env=env)\n",
    "    #DefaultDDPG.load(os.path.join(name, 'spec-def-ddpg-{}'.format(seed)), steps, env=env)\n",
    "    #LyapunovDDPG.load(os.path.join(name, 'spec-lyap-ddpg-{}'.format(seed)), steps, env=env)"
   ]
  },
  {
   "cell_type": "code",
   "execution_count": null,
   "metadata": {},
   "outputs": [],
   "source": [
    "from cv2 import resize\n",
    "from JSAnimation.IPython_display import display_animation\n",
    "from matplotlib import animation\n",
    "from IPython.display import display\n",
    "from gridworld.utils import test, play, visualize\n",
    "frame_size = (150, 100)\n",
    "anim_name = os.path.join(name, 'trial.gif')"
   ]
  },
  {
   "cell_type": "code",
   "execution_count": null,
   "metadata": {},
   "outputs": [],
   "source": [
    "obs, done = env.reset(), False\n",
    "\n",
    "episode_rew = 0\n",
    "episode_safety = 1.\n",
    "frames = []\n",
    "t = 0\n",
    "\n",
    "while not done:\n",
    "    if t > episode_length or episode_safety == 0.:\n",
    "        break\n",
    "    \n",
    "    # Create image\n",
    "    frame = env.render(mode='rgb_array')\n",
    "    frames.append(resize(frame, dsize=frame_size,))\n",
    "\n",
    "    # Do step\n",
    "    obs, rew, done, info = env.step(model.step(obs))\n",
    "    episode_safety = episode_safety * info['safety']\n",
    "    episode_rew = gamma * episode_rew + rew\n",
    "    t += 1\n",
    "\n",
    "print(\"Total runtime: %.4f\" % t)\n",
    "print(\"Total reward: %.4f\" % episode_rew)\n",
    "print(\"Total safety: %.4f\" % episode_safety)\n",
    "env.close()\n",
    "\n",
    "plt.figure(figsize=(frames[0].shape[1] / 72.0, frames[0].shape[0] / 72.0), dpi=72)\n",
    "patch = plt.imshow(frames[0])\n",
    "plt.axis('off')\n",
    "\n",
    "def animate(i):\n",
    "    patch.set_data(frames[i])\n",
    "\n",
    "anim = animation.FuncAnimation(plt.gcf(), animate, frames=len(frames), interval=50)\n",
    "anim.save(anim_name, dpi=80, writer='imagemagick')\n",
    "display(display_animation(anim, default_mode='loop'))"
   ]
  },
  {
   "cell_type": "code",
   "execution_count": null,
   "metadata": {},
   "outputs": [],
   "source": []
  },
  {
   "cell_type": "markdown",
   "metadata": {},
   "source": [
    "* To correct param.pkl,"
   ]
  },
  {
   "cell_type": "code",
   "execution_count": null,
   "metadata": {},
   "outputs": [],
   "source": [
    "with open(os.path.join(os.path.join(name, 'spec-*-ddpg-{}'.format(seed)), 'params.pkl'), 'rb') as f:\n",
    "    data = pickle.load(f)\n",
    "# data['ob_side'] = data.pop('ob_resize')\n",
    "data['extractor'] = 'Mlp'\n",
    "with open(os.path.join(os.path.join(name, 'spec-*-ddpg-{}'.format(seed)), 'params.pkl'), 'wb') as f:\n",
    "    pickle.dump(data, f, pickle.HIGHEST_PROTOCOL)"
   ]
  },
  {
   "cell_type": "code",
   "execution_count": null,
   "metadata": {},
   "outputs": [],
   "source": []
  }
 ],
 "metadata": {
  "kernelspec": {
   "display_name": "Python 3 (drl_mujoco)",
   "language": "python",
   "name": "drl_mujoco"
  },
  "language_info": {
   "codemirror_mode": {
    "name": "ipython",
    "version": 3
   },
   "file_extension": ".py",
   "mimetype": "text/x-python",
   "name": "python",
   "nbconvert_exporter": "python",
   "pygments_lexer": "ipython3",
   "version": "3.7.0"
  }
 },
 "nbformat": 4,
 "nbformat_minor": 4
}
