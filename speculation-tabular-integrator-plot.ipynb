{
 "cells": [
  {
   "cell_type": "code",
   "execution_count": null,
   "metadata": {},
   "outputs": [],
   "source": [
    "%load_ext autoreload\n",
    "%autoreload 2\n",
    "#%matplotlib inline"
   ]
  },
  {
   "cell_type": "code",
   "execution_count": null,
   "metadata": {},
   "outputs": [],
   "source": [
    "from classic_envs.random_integrator import DiscRandomIntegratorEnv\n",
    "from lyapunov_reachability.speculation_tabular import DefaultQAgent, ExplorerQAgent, LyapunovQAgent\n",
    "from lyapunov_reachability.shortest_path.dp import SimplePIAgent\n",
    "from gridworld.utils import test, play, visualize\n",
    "\n",
    "from cplex.exceptions import CplexSolverError\n",
    "import matplotlib\n",
    "matplotlib.rcParams['figure.dpi'] = 300\n",
    "matplotlib.rcParams['pdf.fonttype'] = 42\n",
    "matplotlib.rcParams['ps.fonttype'] = 42\n",
    "import matplotlib.pyplot as plt\n",
    "import torch.nn as nn\n",
    "import numpy as np\n",
    "import pickle\n",
    "import os\n",
    "import seaborn as sns\n",
    "sns.set()"
   ]
  },
  {
   "cell_type": "code",
   "execution_count": null,
   "metadata": {
    "scrolled": true
   },
   "outputs": [],
   "source": [
    "env_name = 'integrator'\n",
    "# DO NOT CHANGE THIS ----\n",
    "n = 10\n",
    "grid_points = 40\n",
    "# You can change them ----\n",
    "episode_length = 200\n",
    "confidence = 0.8\n",
    "name = '{}-{}-{}'.format(n, grid_points, env_name)"
   ]
  },
  {
   "cell_type": "code",
   "execution_count": null,
   "metadata": {},
   "outputs": [],
   "source": [
    "ans_data = np.load(os.path.join(name, 'answer', 'answer.npz'))\n",
    "ans = ans_data['safety_v']\n",
    "del ans_data\n",
    "max_safe_set = np.sum(ans >= confidence)"
   ]
  },
  {
   "cell_type": "code",
   "execution_count": null,
   "metadata": {},
   "outputs": [],
   "source": []
  },
  {
   "cell_type": "markdown",
   "metadata": {},
   "source": [
    "### Load baseline log files"
   ]
  },
  {
   "cell_type": "code",
   "execution_count": null,
   "metadata": {},
   "outputs": [],
   "source": [
    "baseline_dir = os.path.join(name, 'tabular-initial')\n",
    "baseline_step = int(5e6)\n",
    "\n",
    "a = np.load(os.path.join(baseline_dir, '{}.npz'.format(int(baseline_step))))['reachability_q']\n",
    "a = np.min(a, -1)\n",
    "init_found = np.sum((a <= 1. - confidence) * (ans >= confidence))\n",
    "init_notsafe = np.sum((a <= 1. - confidence) * (ans < confidence))\n",
    "init_error = np.mean((a - ans) ** 2)\n",
    "del a"
   ]
  },
  {
   "cell_type": "code",
   "execution_count": null,
   "metadata": {},
   "outputs": [],
   "source": [
    "\n"
   ]
  },
  {
   "cell_type": "markdown",
   "metadata": {},
   "source": [
    "### Set necessary parameters to load log files"
   ]
  },
  {
   "cell_type": "code",
   "execution_count": null,
   "metadata": {},
   "outputs": [],
   "source": [
    "steps = int(1e8)\n",
    "improve_interval = int(1e6)\n",
    "log_interval = int(5e6)\n",
    "save_interval= int(5e6)"
   ]
  },
  {
   "cell_type": "code",
   "execution_count": null,
   "metadata": {},
   "outputs": [],
   "source": [
    "fig_kwargs = {'format': 'eps',\n",
    "              'dpi': 300,\n",
    "              'rasterized': True,\n",
    "              'bbox_inches': 'tight',\n",
    "              'pad_inches': 0,\n",
    "              'frameon': False,\n",
    "             }\n",
    "# Figsize default: (6., 4.); do not change this"
   ]
  },
  {
   "cell_type": "code",
   "execution_count": null,
   "metadata": {},
   "outputs": [],
   "source": []
  },
  {
   "cell_type": "markdown",
   "metadata": {},
   "source": [
    "### Get statistics"
   ]
  },
  {
   "cell_type": "code",
   "execution_count": null,
   "metadata": {},
   "outputs": [],
   "source": [
    "ckpts = int(steps // save_interval)\n",
    "xaxis = save_interval * np.array(range(0, ckpts+1))#(np.array(range(1, ckpts+1))-0.5)"
   ]
  },
  {
   "cell_type": "code",
   "execution_count": null,
   "metadata": {},
   "outputs": [],
   "source": [
    "bl_seeds = list(range(1001, 1021))\n",
    "seeds = bl_seeds\n",
    "\n",
    "bl_error = []\n",
    "bl_found = []\n",
    "bl_notsafe = []\n",
    "bl_cover = []\n",
    "\n",
    "for seed in seeds:\n",
    "    file_prev = np.load(os.path.join(name, 'tabular-initial',\n",
    "                                     '{}.npz'.format(int(baseline_step))))\n",
    "    map_prev = np.sum(file_prev['reachability_q'] * file_prev['policy'], -1)\n",
    "    del file_prev\n",
    "    for i in range(1, ckpts+1):\n",
    "        file_now = np.load(os.path.join(name, 'spec-tb-default-{}'.format(seed),\n",
    "                                        '{}.npz'.format(int(save_interval * i))))\n",
    "        map_now = np.sum(file_now['reachability_q'] * file_now['policy'], -1)\n",
    "        bl_found.append(np.sum((map_now <= 1. - confidence) * (ans >= confidence)))\n",
    "        bl_notsafe.append( np.sum((map_now <= 1. - confidence) * (ans < confidence)))\n",
    "        bl_error.append(np.mean((map_now - ans) ** 2))\n",
    "        bl_cover.append( np.sum((map_now  <= 1. - confidence) * (map_prev <= 1. - confidence)) / np.sum(map_prev <= 1. - confidence) )\n",
    "        \n",
    "        map_prev[:] = map_now[:]\n",
    "        del map_now, file_now\n",
    "    del map_prev\n",
    "\n",
    "bl_error = np.array(bl_error).reshape((len(seeds), ckpts))\n",
    "bl_found = np.array(bl_found).reshape((len(seeds), ckpts))\n",
    "bl_notsafe = np.array(bl_notsafe).reshape((len(seeds), ckpts))\n",
    "bl_cover = np.array(bl_cover).reshape((len(seeds), ckpts))"
   ]
  },
  {
   "cell_type": "code",
   "execution_count": null,
   "metadata": {},
   "outputs": [],
   "source": [
    "lyap_seeds = list(range(1001, 1021))\n",
    "seeds = lyap_seeds\n",
    "\n",
    "lyap_error = []\n",
    "lyap_found = []\n",
    "lyap_notsafe = []\n",
    "lyap_cover = []\n",
    "\n",
    "for seed in seeds:\n",
    "    file_prev = np.load(os.path.join(name, 'tabular-initial',\n",
    "                                     '{}.npz'.format(int(baseline_step))))\n",
    "    map_prev = np.sum(file_prev['reachability_q'] * file_prev['policy'], -1)\n",
    "    del file_prev\n",
    "    for i in range(1, ckpts+1):\n",
    "        file_now = np.load(os.path.join(name, 'spec-tb-lyapunov-{}'.format(seed),\n",
    "                                        '{}.npz'.format(int(save_interval * i))))\n",
    "        map_now = np.sum(file_now['reachability_q'] * file_now['policy'], -1)\n",
    "        lyap_found.append(np.sum((map_now <= 1. - confidence) * (ans >= confidence)))\n",
    "        lyap_notsafe.append(np.sum((map_now <= 1. - confidence) * (ans < confidence)))\n",
    "        lyap_error.append(np.mean((map_now - ans) ** 2))\n",
    "        lyap_cover.append( np.sum((map_now  <= 1. - confidence) * (map_prev <= 1. - confidence)) / np.sum(map_prev <= 1. - confidence) )\n",
    "        \n",
    "        map_prev[:] = map_now[:]\n",
    "        del map_now, file_now\n",
    "    del map_prev\n",
    "\n",
    "lyap_error = np.array(lyap_error).reshape((len(seeds), ckpts))\n",
    "lyap_found = np.array(lyap_found).reshape((len(seeds), ckpts))\n",
    "lyap_notsafe = np.array(lyap_notsafe).reshape((len(seeds), ckpts))\n",
    "lyap_cover = np.array(lyap_cover).reshape((len(seeds), ckpts))"
   ]
  },
  {
   "cell_type": "code",
   "execution_count": null,
   "metadata": {},
   "outputs": [],
   "source": [
    "exp_seeds = list(range(1001, 1021))\n",
    "seeds = exp_seeds\n",
    "\n",
    "exp_error = []\n",
    "exp_found = []\n",
    "exp_notsafe = []\n",
    "exp_cover = []\n",
    "\n",
    "for seed in seeds:\n",
    "    file_prev = np.load(os.path.join(name, 'tabular-initial',\n",
    "                                     '{}.npz'.format(int(baseline_step))))\n",
    "    map_prev = np.sum(file_prev['reachability_q'] * file_prev['policy'], -1)\n",
    "    del file_prev\n",
    "    for i in range(1, ckpts+1):\n",
    "        file_now = np.load(os.path.join(name, 'spec-tb-explorer-{}'.format(seed),\n",
    "                                        '{}.npz'.format(int(save_interval * i))))\n",
    "        map_now = np.sum(file_now['reachability_q'] * file_now['policy'], -1)\n",
    "        exp_found.append(np.sum((map_now <= 1. - confidence) * (ans >= confidence)))\n",
    "        exp_notsafe.append(np.sum((map_now <= 1. - confidence) * (ans < confidence)))\n",
    "        exp_error.append(np.mean((map_now - ans) ** 2))\n",
    "        exp_cover.append( np.sum((map_now  <= 1. - confidence) * (map_prev <= 1. - confidence)) / np.sum(map_prev <= 1. - confidence) )\n",
    "        \n",
    "        map_prev[:] = map_now[:]\n",
    "        del map_now, file_now\n",
    "    del map_prev\n",
    "\n",
    "exp_error = np.array(exp_error).reshape((len(seeds), ckpts))\n",
    "exp_found = np.array(exp_found).reshape((len(seeds), ckpts))\n",
    "exp_notsafe = np.array(exp_notsafe).reshape((len(seeds), ckpts))\n",
    "exp_cover = np.array(exp_cover).reshape((len(seeds), ckpts))"
   ]
  },
  {
   "cell_type": "code",
   "execution_count": null,
   "metadata": {},
   "outputs": [],
   "source": [
    "del seeds"
   ]
  },
  {
   "cell_type": "code",
   "execution_count": null,
   "metadata": {},
   "outputs": [],
   "source": []
  },
  {
   "cell_type": "code",
   "execution_count": null,
   "metadata": {},
   "outputs": [],
   "source": [
    "fig, ax = plt.subplots(1, 1, sharex=True)\n",
    "\n",
    "bl_mu = np.concatenate(([init_found], np.mean(bl_found, axis=0)), axis=0) / max_safe_set\n",
    "bl_std = np.concatenate(([0], np.std(bl_found, axis=0)), axis=0) / max_safe_set\n",
    "lyap_mu = np.concatenate(([init_found], np.mean(lyap_found, axis=0)), axis=0) / max_safe_set\n",
    "lyap_std = np.concatenate(([0], np.std(lyap_found, axis=0)), axis=0) / max_safe_set\n",
    "exp_mu = np.concatenate(([init_found], np.mean(exp_found, axis=0)), axis=0) / max_safe_set\n",
    "exp_std = np.concatenate(([0], np.std(exp_found, axis=0)), axis=0) / max_safe_set\n",
    "\n",
    "ax.fill_between(xaxis, bl_mu - bl_std, bl_mu + bl_std, alpha=0.25, color='teal')\n",
    "ax.fill_between(xaxis, lyap_mu - lyap_std, lyap_mu + lyap_std, alpha=0.25, color='coral')\n",
    "ax.fill_between(xaxis, exp_mu - exp_std, exp_mu + exp_std, alpha=0.25, color='mediumblue')\n",
    "ax.plot(xaxis, bl_mu, label='No Lyapunov', color='teal')\n",
    "ax.plot(xaxis, lyap_mu, label='LSS', color='coral')\n",
    "ax.plot(xaxis, exp_mu, label='ESS', color='mediumblue')\n",
    "\n",
    "ax.legend(ncol=3, loc='upper right')\n",
    "# plt.xlabel('Steps (1 step=128 samples)')\n",
    "# plt.ylabel('Ratio of safe states found')\n",
    "plt.xlabel('Steps')\n",
    "ax.ticklabel_format(style='sci', scilimits=(-3,4), axis='both')\n",
    "plt.xlim(0, ckpts*save_interval)\n",
    "plt.ylim(.1, .65)\n",
    "# plt.ylim(-0.05, 1.05)\n",
    "# ax.set_rasterized(True)\n",
    "ax.set_rasterization_zorder(0)\n",
    "fig.set_dpi(300)\n",
    "fig.patch.set_alpha(0)\n",
    "fig.tight_layout()\n",
    "plt.savefig(os.path.join(name, '{}-spec-tb-[safe_set]over[max_safe_set].pdf'.format(env_name)), format='pdf')"
   ]
  },
  {
   "cell_type": "code",
   "execution_count": null,
   "metadata": {},
   "outputs": [],
   "source": [
    "fig, ax = plt.subplots(1, 1, sharex=True)\n",
    "\n",
    "bl_mu = np.concatenate(([init_notsafe], np.mean(bl_notsafe, axis=0)), axis=0) / np.prod(ans.shape)\n",
    "bl_std = np.concatenate(([0], np.std(bl_notsafe, axis=0)), axis=0) / np.prod(ans.shape)\n",
    "lyap_mu = np.concatenate(([init_notsafe], np.mean(lyap_notsafe, axis=0)), axis=0) / np.prod(ans.shape)\n",
    "lyap_std = np.concatenate(([0], np.std(lyap_notsafe, axis=0)), axis=0) / np.prod(ans.shape)\n",
    "exp_mu = np.concatenate(([init_notsafe], np.mean(exp_notsafe, axis=0)), axis=0) / np.prod(ans.shape)\n",
    "exp_std = np.concatenate(([0], np.std(exp_notsafe, axis=0)), axis=0) / np.prod(ans.shape)\n",
    "\n",
    "ax.fill_between(xaxis, bl_mu - bl_std, bl_mu + bl_std, alpha=0.25, color='teal')\n",
    "ax.fill_between(xaxis, lyap_mu - lyap_std, lyap_mu + lyap_std, alpha=0.25, color='coral')\n",
    "ax.fill_between(xaxis, exp_mu - exp_std, exp_mu + exp_std, alpha=0.25, color='mediumblue')\n",
    "ax.plot(xaxis, bl_mu, label='No Lyapunov', color='teal')\n",
    "ax.plot(xaxis, lyap_mu, label='LSS', color='coral')\n",
    "ax.plot(xaxis, exp_mu, label='ESS', color='mediumblue')\n",
    "\n",
    "ax.legend(ncol=3, loc='upper right')\n",
    "# plt.xlabel('Steps (1 step=128 samples)')\n",
    "# plt.ylabel('Ratio of false-positive safe states')\n",
    "plt.xlabel('Steps')\n",
    "ax.ticklabel_format(style='sci', scilimits=(-3,4), axis='both')\n",
    "plt.xlim(save_interval, ckpts*save_interval)\n",
    "plt.ylim(-0.05, 0.20)\n",
    "# ax.set_rasterized(True)\n",
    "ax.set_rasterization_zorder(0)\n",
    "fig.set_dpi(300)\n",
    "fig.patch.set_alpha(0)\n",
    "fig.tight_layout()\n",
    "plt.savefig(os.path.join(name, '{}-spec-tb-[false_positive_safe_set]over[state_space].pdf'.format(env_name)), format='pdf')"
   ]
  },
  {
   "cell_type": "code",
   "execution_count": null,
   "metadata": {},
   "outputs": [],
   "source": [
    "fig, ax = plt.subplots(1, 1, sharex=True)\n",
    "\n",
    "bl_mu = np.concatenate(([1], np.mean(bl_cover, axis=0)), axis=0)\n",
    "bl_std = np.concatenate(([0], np.std(bl_cover, axis=0)), axis=0)\n",
    "lyap_mu = np.concatenate(([1], np.mean(lyap_cover, axis=0)), axis=0)\n",
    "lyap_std = np.concatenate(([0], np.std(lyap_cover, axis=0)), axis=0)\n",
    "exp_mu = np.concatenate(([1], np.mean(exp_cover, axis=0)), axis=0)\n",
    "exp_std = np.concatenate(([0], np.std(exp_cover, axis=0)), axis=0)\n",
    "\n",
    "ax.fill_between(xaxis, bl_mu - bl_std, bl_mu + bl_std, alpha=0.25, color='teal')\n",
    "ax.fill_between(xaxis, lyap_mu - lyap_std, lyap_mu + lyap_std, alpha=0.25, color='coral')\n",
    "ax.fill_between(xaxis, exp_mu - exp_std, exp_mu + exp_std, alpha=0.25, color='mediumblue')\n",
    "ax.plot(xaxis, bl_mu, label='No Lyapunov', color='teal')\n",
    "ax.plot(xaxis, lyap_mu, label='LSS', color='coral')\n",
    "ax.plot(xaxis, exp_mu, label='ESS', color='mediumblue')\n",
    "\n",
    "ax.legend(ncol=2, loc='lower right')\n",
    "# plt.xlabel('Steps (1 step=128 samples)')\n",
    "# plt.ylabel('Ratio of safe states found')\n",
    "plt.xlabel('Steps')\n",
    "ax.ticklabel_format(style='sci', scilimits=(-3,4), axis='both')\n",
    "plt.xlim(int(0. * save_interval), int(ckpts * save_interval))\n",
    "plt.ylim(0.95, 1.05)\n",
    "# ax.set_rasterized(True)\n",
    "ax.set_rasterization_zorder(0)\n",
    "fig.set_dpi(300)\n",
    "fig.patch.set_alpha(0)\n",
    "fig.tight_layout()plt.savefig(os.path.join(name, '{}-spec-tb-[cover_ratio].pdf'.format(env_name)), format='pdf')"
   ]
  },
  {
   "cell_type": "code",
   "execution_count": null,
   "metadata": {},
   "outputs": [],
   "source": [
    "fig, ax = plt.subplots(1, 1, sharex=True)\n",
    "\n",
    "bl_mu = np.concatenate(([init_error], np.mean(bl_error, axis=0)), axis=0)\n",
    "bl_std = np.concatenate(([0], np.std(bl_error, axis=0)), axis=0)\n",
    "lyap_mu = np.concatenate(([init_error], np.mean(lyap_error, axis=0)), axis=0)\n",
    "lyap_std = np.concatenate(([0], np.std(lyap_error, axis=0)), axis=0)\n",
    "exp_mu = np.concatenate(([init_error], np.mean(exp_error, axis=0)), axis=0)\n",
    "exp_std = np.concatenate(([0], np.std(exp_error, axis=0)), axis=0)\n",
    "\n",
    "ax.fill_between(xaxis, bl_mu - bl_std, bl_mu + bl_std, alpha=0.25, color='teal')\n",
    "ax.fill_between(xaxis, lyap_mu - lyap_std, lyap_mu + lyap_std, alpha=0.25, color='coral')\n",
    "ax.fill_between(xaxis, exp_mu - exp_std, exp_mu + exp_std, alpha=0.25, color='mediumblue')\n",
    "ax.plot(xaxis, bl_mu, label='No Lyapunov', color='teal')\n",
    "ax.plot(xaxis, lyap_mu, label='LSS', color='coral')\n",
    "ax.plot(xaxis, exp_mu, label='ESS', color='mediumblue')\n",
    "\n",
    "ax.legend(ncol=2, loc='lower right')\n",
    "# plt.xlabel('Steps (1 step=128 samples)')\n",
    "# plt.ylabel('Ratio of false-positive safe states')\n",
    "plt.xlabel('Steps')\n",
    "ax.ticklabel_format(style='sci', scilimits=(-3,4), axis='both')\n",
    "plt.xlim(save_interval, ckpts*save_interval)\n",
    "#plt.ylim(-0.05, 1.05)\n",
    "# ax.set_rasterized(True)\n",
    "ax.set_rasterization_zorder(0)\n",
    "fig.set_dpi(300)\n",
    "fig.patch.set_alpha(0)\n",
    "fig.tight_layout()\n",
    "plt.savefig(os.path.join(name, '{}-spec-tb-[mean_square_error].pdf'.format(env_name)), format='pdf')"
   ]
  },
  {
   "cell_type": "code",
   "execution_count": null,
   "metadata": {},
   "outputs": [],
   "source": []
  },
  {
   "cell_type": "markdown",
   "metadata": {},
   "source": [
    "### Learning curve"
   ]
  },
  {
   "cell_type": "code",
   "execution_count": null,
   "metadata": {},
   "outputs": [],
   "source": [
    "init_safety = 0\n",
    "with open(os.path.join(baseline_dir, 'log.pkl'), 'rb') as f:\n",
    "    data = pickle.load(f)\n",
    "    init_safety = data['average_safety'][-1]\n",
    "    del data"
   ]
  },
  {
   "cell_type": "code",
   "execution_count": null,
   "metadata": {},
   "outputs": [],
   "source": [
    "bl_episode_safety = []\n",
    "lyap_episode_safety = []\n",
    "exp_episode_safety = []\n",
    "\n",
    "ckpts = int(steps // log_interval)\n",
    "xaxis = log_interval * np.array(range(0, ckpts+1))#(np.array(range(1, ckpts+1))-0.5)\n",
    "\n",
    "seeds = list(range(1001, 1021))\n",
    "for seed in seeds:\n",
    "    with open(os.path.join(name, 'spec-tb-default-{}'.format(seed), 'log.pkl'), 'rb') as f:\n",
    "        data = pickle.load(f)\n",
    "        bl_episode_safety += data['average_safety']\n",
    "        del data\n",
    "bl_episode_safety = np.array(bl_episode_safety).reshape((len(seeds), ckpts))\n",
    "\n",
    "seeds = list(range(1001, 1021))\n",
    "for seed in seeds:\n",
    "    with open(os.path.join(name, 'spec-tb-lyapunov-{}'.format(seed), 'log.pkl'), 'rb') as f:\n",
    "        data = pickle.load(f)\n",
    "        lyap_episode_safety += data['average_safety']\n",
    "        del data\n",
    "lyap_episode_safety = np.array(lyap_episode_safety).reshape((len(seeds), ckpts))\n",
    "\n",
    "seeds = list(range(1001, 1021))\n",
    "for seed in seeds:\n",
    "    with open(os.path.join(name, 'spec-tb-explorer-{}'.format(seed), 'log.pkl'), 'rb') as f:\n",
    "        data = pickle.load(f)\n",
    "        exp_episode_safety += data['average_safety']\n",
    "        del data    \n",
    "exp_episode_safety = np.array(exp_episode_safety).reshape((len(seeds), ckpts))"
   ]
  },
  {
   "cell_type": "code",
   "execution_count": null,
   "metadata": {},
   "outputs": [],
   "source": [
    "fig, ax = plt.subplots(1, 1, sharex=True)\n",
    "\n",
    "bl_mu = np.concatenate(([init_safety], np.mean(bl_episode_safety, axis=0)), axis=0)\n",
    "bl_std = np.concatenate(([0], np.std(bl_episode_safety, axis=0)), axis=0)\n",
    "lyap_mu = np.concatenate(([init_safety], np.mean(lyap_episode_safety, axis=0)), axis=0)\n",
    "lyap_std = np.concatenate(([0], np.std(lyap_episode_safety, axis=0)), axis=0)\n",
    "exp_mu = np.concatenate(([init_safety], np.mean(exp_episode_safety, axis=0)), axis=0)\n",
    "exp_std = np.concatenate(([0], np.std(exp_episode_safety, axis=0)), axis=0)\n",
    "\n",
    "ax.fill_between(xaxis, bl_mu - bl_std, bl_mu + bl_std, alpha=0.25, color='teal')\n",
    "ax.fill_between(xaxis, lyap_mu - lyap_std, lyap_mu + lyap_std, alpha=0.25, color='coral')\n",
    "ax.fill_between(xaxis, exp_mu - exp_std, exp_mu + exp_std, alpha=0.25, color='mediumblue')\n",
    "ax.plot(xaxis, bl_mu, label='No Lyapunov', color='teal')\n",
    "ax.plot(xaxis, lyap_mu, label='LSS', color='coral')\n",
    "ax.plot(xaxis, exp_mu, label='ESS', color='mediumblue')\n",
    "\n",
    "ax.plot(xaxis, confidence * np.ones((ckpts+1,)), 'r--')\n",
    "\n",
    "ax.legend(ncol=2, loc='lower right')\n",
    "# plt.xlabel('Steps (1 step=128 samples)')\n",
    "# plt.ylabel('Average episode safety')\n",
    "plt.xlabel('Steps')\n",
    "ax.ticklabel_format(style='sci', scilimits=(-3,4), axis='both')\n",
    "plt.xlim(0, ckpts*log_interval)\n",
    "plt.ylim(.70, 1.05)\n",
    "# plt.ylim(-0.05, 1.05)\n",
    "# ax.set_rasterized(True)\n",
    "ax.set_rasterization_zorder(0)\n",
    "fig.set_dpi(300)\n",
    "fig.patch.set_alpha(0)\n",
    "fig.tight_layout()\n",
    "plt.savefig(os.path.join(name, '{}-spec-tb-[train_episode_safety].pdf'.format(env_name)), format='pdf')"
   ]
  },
  {
   "cell_type": "code",
   "execution_count": null,
   "metadata": {},
   "outputs": [],
   "source": []
  },
  {
   "cell_type": "markdown",
   "metadata": {},
   "source": [
    "### Visualization"
   ]
  },
  {
   "cell_type": "code",
   "execution_count": null,
   "metadata": {},
   "outputs": [],
   "source": [
    "def get_reachability(name, logdir, seeds, ckpts, reshape=True, reference=None):\n",
    "    reachability_list = []\n",
    "    for seed in seeds:\n",
    "        tmp = []\n",
    "        for i in range(1, ckpts+1):\n",
    "            a = np.load(os.path.join(name, '{}-{}'.format(logdir, seed),\n",
    "                                     '{}.npz'.format(int(save_interval * i))))['reachability_q']\n",
    "            a = np.min(a, -1)            \n",
    "            tmp.append(a)\n",
    "            del a\n",
    "        tmp = np.array(tmp)\n",
    "        reachability_list.append(tmp)\n",
    "    if reference is None:\n",
    "        reachability_list = np.array(reachability_list).mean(0)\n",
    "    else:\n",
    "        idx = np.argmax(reference[:, -1])\n",
    "        reachability_list = np.array(reachability_list)[idx, ...]\n",
    "    if reshape:\n",
    "        try:\n",
    "            reachability_list = reachability_list.reshape((ckpts, grid_points, grid_points))\n",
    "        except ValueError:\n",
    "            print(\"Reshape unavailable.\")\n",
    "    return reachability_list"
   ]
  },
  {
   "cell_type": "code",
   "execution_count": null,
   "metadata": {},
   "outputs": [],
   "source": [
    "ckpts = int(steps // save_interval)\n",
    "xaxis = save_interval * np.array(range(1, ckpts+1))#(np.array(range(1, ckpts+1))-0.5)"
   ]
  },
  {
   "cell_type": "code",
   "execution_count": null,
   "metadata": {},
   "outputs": [],
   "source": [
    "bl_list = get_reachability(name, 'spec-tb-default', bl_seeds, ckpts, reshape=True, reference=bl_found)\n",
    "lyap_list = get_reachability(name, 'spec-tb-lyapunov', lyap_seeds, ckpts, reshape=True, reference=lyap_found)\n",
    "exp_list = get_reachability(name, 'spec-tb-explorer', exp_seeds, ckpts, reshape=True, reference=exp_found)"
   ]
  },
  {
   "cell_type": "code",
   "execution_count": null,
   "metadata": {},
   "outputs": [],
   "source": [
    "idx = ckpts"
   ]
  },
  {
   "cell_type": "code",
   "execution_count": null,
   "metadata": {},
   "outputs": [],
   "source": [
    "fig, ax = plt.subplots(1,1)\n",
    "img = plt.imshow(ans.reshape((grid_points, grid_points)) >= confidence,\n",
    "                 cmap='inferno', extent=[.5, -.5, -1., 1.,], aspect=.5)\n",
    "#img = plt.imshow(ans.reshape((grid_points, grid_points)) >= confidence, cmap='plasma', extent=[.5, -.5, -1., 1.,], aspect=.5)\n",
    "ax.set_xlabel('Velocity')\n",
    "ax.set_xticks(np.arange(-.5, .5+1e-3, .2))\n",
    "ax.set_ylabel('Position')\n",
    "ax.set_yticks(np.arange(-1., 1.+2e-3, .4))\n",
    "# ax.get_yaxis().set_visible(False)\n",
    "\n",
    "plt.clim(0., 1.)\n",
    "# fig.colorbar(img)\n",
    "plt.grid(False)\n",
    "fig.set_dpi(300)\n",
    "fig.patch.set_facecolor('none')\n",
    "fig.patch.set_alpha(0)\n",
    "fig.tight_layout()\n",
    "ax.patch.set_facecolor('none')\n",
    "ax.patch.set_alpha(0)\n",
    "plt.savefig(os.path.join(name, 'integrator-spec-tb-visualize-answer.pdf'), format='pdf',\n",
    "            facecolor=fig.get_facecolor(), edgecolor='none', bbox_inches='tight')"
   ]
  },
  {
   "cell_type": "code",
   "execution_count": null,
   "metadata": {},
   "outputs": [],
   "source": [
    "fig, ax = plt.subplots(1,1)\n",
    "# Show False-positive and True-positive altogether.\n",
    "img = plt.imshow((1.-bl_list[idx-1] >= confidence) * (ans.reshape((grid_points, grid_points)) >= confidence)\n",
    "                 + (1.-bl_list[idx-1] >= confidence) * (ans.reshape((grid_points, grid_points)) < confidence) * 0.5,\n",
    "                 cmap='inferno', extent=[.5, -.5, -1., 1.,], aspect=.5)\n",
    "#img = plt.imshow((1.-bl_list[idx-1] >= confidence), cmap='plasma', extent=[.5, -.5, -1., 1.,], aspect=.5)\n",
    "\n",
    "ax.set_xlabel('Velocity')\n",
    "ax.set_xticks(np.arange(-.5, .5+1e-3, .2))\n",
    "ax.set_ylabel('Position')\n",
    "ax.set_yticks(np.arange(-1., 1.+2e-3, .4))\n",
    "ax.get_yaxis().set_visible(False)\n",
    "\n",
    "plt.clim(0., 1.)\n",
    "# fig.colorbar(img)\n",
    "plt.grid(False)\n",
    "fig.set_dpi(300)\n",
    "fig.patch.set_facecolor('none')\n",
    "fig.patch.set_alpha(0)\n",
    "fig.tight_layout()\n",
    "ax.patch.set_facecolor('none')\n",
    "ax.patch.set_alpha(0)\n",
    "fig.savefig(os.path.join(name, 'integrator-spec-tb-visualize-baseline-{}.pdf'.format(save_interval * idx)), format='pdf',\n",
    "            facecolor=fig.get_facecolor(), edgecolor='none', bbox_inches='tight')"
   ]
  },
  {
   "cell_type": "code",
   "execution_count": null,
   "metadata": {},
   "outputs": [],
   "source": [
    "fig, ax = plt.subplots(1,1)\n",
    "\n",
    "# Show False-positive and True-positive altogether.\n",
    "img = plt.imshow((1.-lyap_list[idx-1] >= confidence) * (ans.reshape((grid_points, grid_points)) >= confidence)\n",
    "                 + (1.-lyap_list[idx-1] >= confidence) * (ans.reshape((grid_points, grid_points)) < confidence) * 0.5,\n",
    "                 cmap='inferno', extent=[.5, -.5, -1., 1.,], aspect=.5)\n",
    "#img = plt.imshow((1.-lyap_list[idx-1] >= confidence), cmap='plasma', extent=[.5, -.5, -1., 1.,], aspect=.5)\n",
    "ax.set_xlabel('Velocity')\n",
    "ax.set_xticks(np.arange(-.5, .5+1e-3, .2))\n",
    "ax.set_ylabel('Position')\n",
    "ax.set_yticks(np.arange(-1., 1.+2e-3, .4))\n",
    "ax.get_yaxis().set_visible(False)\n",
    "\n",
    "plt.clim(0., 1.)\n",
    "# fig.colorbar(img)\n",
    "plt.grid(False)\n",
    "fig.set_dpi(300)\n",
    "fig.patch.set_facecolor('none')\n",
    "fig.patch.set_alpha(0)\n",
    "fig.tight_layout()\n",
    "ax.patch.set_facecolor('none')\n",
    "ax.patch.set_alpha(0)\n",
    "plt.savefig(os.path.join(name, 'integrator-spec-tb-visualize-lyapunov-{}.pdf'.format(save_interval * idx)),\n",
    "            format='pdf', facecolor=fig.get_facecolor(), edgecolor='none', bbox_inches='tight')"
   ]
  },
  {
   "cell_type": "code",
   "execution_count": null,
   "metadata": {},
   "outputs": [],
   "source": [
    "fig, ax = plt.subplots(1,1)\n",
    "\n",
    "# Show False-positive and True-positive altogether.\n",
    "img = plt.imshow((1.-exp_list[idx-1] >= confidence) * (ans.reshape((grid_points, grid_points)) >= confidence)\n",
    "                 + (1.-exp_list[idx-1] >= confidence) * (ans.reshape((grid_points, grid_points)) < confidence) * 0.5,\n",
    "                 cmap='inferno', extent=[.5, -.5, -1., 1.,], aspect=.5)\n",
    "#img = plt.imshow((1.-exp_list[idx-1] >= confidence), cmap='plasma', extent=[.5, -.5, -1., 1.,], aspect=.5)\n",
    "ax.set_xlabel('Velocity')\n",
    "ax.set_xticks(np.arange(-.5, .5+1e-3, .2))\n",
    "ax.set_ylabel('Position')\n",
    "ax.set_yticks(np.arange(-1., 1.+2e-3, .4))\n",
    "ax.get_yaxis().set_visible(False)\n",
    "\n",
    "plt.clim(0., 1.)\n",
    "# fig.colorbar(img)\n",
    "plt.grid(False)\n",
    "fig.set_dpi(300)\n",
    "fig.patch.set_facecolor('none')\n",
    "fig.patch.set_alpha(0)\n",
    "fig.tight_layout()\n",
    "ax.patch.set_facecolor('none')\n",
    "ax.patch.set_alpha(0)\n",
    "plt.savefig(os.path.join(name, 'integrator-spec-tb-visualize-explorer-{}.pdf'.format(save_interval * idx)),\n",
    "            format='pdf', facecolor=fig.get_facecolor(), edgecolor='none', bbox_inches='tight')"
   ]
  },
  {
   "cell_type": "code",
   "execution_count": null,
   "metadata": {},
   "outputs": [],
   "source": []
  },
  {
   "cell_type": "markdown",
   "metadata": {},
   "source": [
    "### Trial"
   ]
  },
  {
   "cell_type": "code",
   "execution_count": null,
   "metadata": {},
   "outputs": [],
   "source": [
    "env = DiscRandomIntegratorEnv(n=n, grid_points=grid_points, seed=None)"
   ]
  },
  {
   "cell_type": "code",
   "execution_count": null,
   "metadata": {},
   "outputs": [],
   "source": [
    "model = ExplorerQAgent.load(os.path.join(name, 'spec-tb-lyapunov-123'), int(1e8), env=env)"
   ]
  },
  {
   "cell_type": "code",
   "execution_count": null,
   "metadata": {},
   "outputs": [],
   "source": [
    "def tester(env, act, trials=100, initial_state=None, gamma=1.):\n",
    "    count = 0\n",
    "    safe_run = 0.\n",
    "    done = False\n",
    "    while count < trials:\n",
    "        _ = env.reset()\n",
    "        if initial_state is not None:\n",
    "            env.set_state(initial_state)\n",
    "            st = initial_state\n",
    "        else:\n",
    "            st = env.quantize(env.state)\n",
    "        episode_rew = 0.\n",
    "        episode_safety = 1.\n",
    "        t = 0\n",
    "        while not done: #t <= episode_length and not done:\n",
    "            _, rew, done, info = env.step(act.step(st))\n",
    "            st = info['state']\n",
    "            episode_safety *= info['safety']\n",
    "            episode_rew = gamma * episode_rew + rew\n",
    "            t += 1\n",
    "        count += 1\n",
    "        if episode_safety > 0.:\n",
    "            safe_run += 1.\n",
    "    env.close()\n",
    "    return 1. * safe_run / trials"
   ]
  },
  {
   "cell_type": "code",
   "execution_count": null,
   "metadata": {},
   "outputs": [],
   "source": [
    "tester(env, model, trials=10, initial_state=763)"
   ]
  },
  {
   "cell_type": "code",
   "execution_count": null,
   "metadata": {},
   "outputs": [],
   "source": []
  }
 ],
 "metadata": {
  "kernelspec": {
   "display_name": "Python 3 (drl_mujoco)",
   "language": "python",
   "name": "drl_mujoco"
  },
  "language_info": {
   "codemirror_mode": {
    "name": "ipython",
    "version": 3
   },
   "file_extension": ".py",
   "mimetype": "text/x-python",
   "name": "python",
   "nbconvert_exporter": "python",
   "pygments_lexer": "ipython3",
   "version": "3.7.0"
  }
 },
 "nbformat": 4,
 "nbformat_minor": 4
}
