{
 "cells": [
  {
   "cell_type": "code",
   "execution_count": null,
   "metadata": {},
   "outputs": [],
   "source": [
    "%load_ext autoreload\n",
    "%autoreload 2\n",
    "%matplotlib inline"
   ]
  },
  {
   "cell_type": "code",
   "execution_count": null,
   "metadata": {},
   "outputs": [],
   "source": [
    "from classic_envs.random_integrator import DiscRandomIntegratorEnv\n",
    "from lyapunov_reachability.speculation_tabular import DefaultQAgent, ExplorerQAgent, LyapunovQAgent\n",
    "from lyapunov_reachability.shortest_path.dp import SimplePIAgent\n",
    "from gridworld.utils import test, play, visualize\n",
    "\n",
    "from cplex.exceptions import CplexSolverError\n",
    "import matplotlib.pyplot as plt\n",
    "import torch.nn as nn\n",
    "import numpy as np\n",
    "import pickle\n",
    "import os"
   ]
  },
  {
   "cell_type": "markdown",
   "metadata": {},
   "source": [
    "# Integrator"
   ]
  },
  {
   "cell_type": "code",
   "execution_count": null,
   "metadata": {
    "scrolled": true
   },
   "outputs": [],
   "source": [
    "# DO NOT CHANGE THIS ----\n",
    "n = 10\n",
    "grid_points = 40\n",
    "# You can change them ----\n",
    "episode_length = 1000\n",
    "confidence = 0.8\n",
    "strict_done = True\n",
    "safe_init = True\n",
    "\n",
    "env = DiscRandomIntegratorEnv(n=n, grid_points=grid_points, seed=None)\n",
    "name = '{}-{}-integrator'.format(n, grid_points)\n",
    "configure_light = env.speculate_light()"
   ]
  },
  {
   "cell_type": "code",
   "execution_count": null,
   "metadata": {},
   "outputs": [],
   "source": [
    "steps = int(1e8)\n",
    "improve_interval = int(1e6)\n",
    "log_interval = int(5e6)\n",
    "save_interval= int(5e6)\n",
    "auxiliary_args = {'learning_rate': .1, 'gamma': 1.-1e-4, 'epsilon': 0.5, 'epsilon_decay': 2e-8, 'epsilon_last': 0.1}"
   ]
  },
  {
   "cell_type": "code",
   "execution_count": null,
   "metadata": {},
   "outputs": [],
   "source": [
    "seeds = list(range(1001, 1021))"
   ]
  },
  {
   "cell_type": "code",
   "execution_count": null,
   "metadata": {},
   "outputs": [],
   "source": [
    "# Without baseline,\n",
    "#baseline_dir = None\n",
    "#baseline_steps = None\n",
    "\n",
    "# ----\n",
    "baseline_dir = os.path.join(name, 'tabular-initial')\n",
    "baseline_step = int(5e6)"
   ]
  },
  {
   "cell_type": "code",
   "execution_count": null,
   "metadata": {},
   "outputs": [],
   "source": [
    "def_args = {'learning_rate': .1, 'gamma': 1.-1e-6, 'epsilon': 0.5, 'epsilon_decay': 1e-6, 'epsilon_last': 0.1}\n",
    "def_q = DefaultQAgent(env, confidence, *configure_light, seed=1234,\n",
    "                      strict_done=True, safe_init=False, save_dir=baseline_dir)\n",
    "def_q.reachability_q *= 1. - np.random.random(def_q.reachability_q.shape)* 1e-1\n",
    "def_stats = def_q.run(baseline_step, episode_length, improve_interval=int(1e6),\n",
    "                      log_interval=int(1e6), save_interval=int(5e6), **def_args)\n",
    "with open(os.path.join(baseline_dir, 'log.pkl'), 'wb') as f:\n",
    "    pickle.dump(def_stats, f, pickle.HIGHEST_PROTOCOL)\n",
    "del def_q\n",
    "del def_stats"
   ]
  },
  {
   "cell_type": "markdown",
   "metadata": {},
   "source": [
    "log\t:: steps=1000000, episode_safety=0.21, episode_runtime=102.13<br>\n",
    "log\t:: steps=2000000, episode_safety=0.72, episode_runtime=173.26<br>\n",
    "log\t:: steps=3000000, episode_safety=0.98, episode_runtime=146.23<br>\n",
    "log\t:: steps=4000000, episode_safety=0.89, episode_runtime=126.14<br>\n",
    "log\t:: steps=5000000, episode_safety=0.85, episode_runtime=113.51<br>\n",
    "chart\t:: safe_set_size=0.05125"
   ]
  },
  {
   "cell_type": "code",
   "execution_count": null,
   "metadata": {},
   "outputs": [],
   "source": []
  },
  {
   "cell_type": "markdown",
   "metadata": {},
   "source": [
    "### Check out the \"answer\" first."
   ]
  },
  {
   "cell_type": "code",
   "execution_count": null,
   "metadata": {},
   "outputs": [],
   "source": [
    "configure = env.speculate(grid_points=grid_points, confidence=confidence, episode_length=episode_length*10)\n",
    "simple_pi = SimplePIAgent(env, *configure,)\n",
    "_ = simple_pi.run(10, print_freq=1, verbose=False, name=os.path.join(name, 'answer'),)\n",
    "safety_v = simple_pi.safety_v"
   ]
  },
  {
   "cell_type": "code",
   "execution_count": null,
   "metadata": {},
   "outputs": [],
   "source": [
    "# configure = env.speculate(grid_points=grid_points, confidence=confidence, episode_length=episode_length*10)\n",
    "# simple_pi = SimplePIAgent(env, *configure,)\n",
    "# _ = simple_pi.run(5, print_freq=1, verbose=False, name=os.path.join(name, 'answer'),)\n",
    "# safety_v = simple_pi.safety_v\n",
    "\n",
    "simple_pi = np.load(os.path.join(name, 'answer', 'answer.npz'))\n",
    "safety_v = simple_pi['safety_v']"
   ]
  },
  {
   "cell_type": "code",
   "execution_count": null,
   "metadata": {},
   "outputs": [],
   "source": [
    "fig, ax = plt.subplots(1,1)\n",
    "img = plt.imshow(\n",
    "    safety_v.reshape((grid_points, grid_points)), cmap='plasma', extent=[.5, -.5, -1., 1.,], aspect=.5)\n",
    "ax.set_xlabel('Velocity')\n",
    "ax.set_ylabel('Position')\n",
    "plt.clim(0., 1.)\n",
    "fig.colorbar(img)\n",
    "plt.savefig(os.path.join(name, 'answer.eps'), format='eps', dpi=300)"
   ]
  },
  {
   "cell_type": "code",
   "execution_count": null,
   "metadata": {},
   "outputs": [],
   "source": []
  },
  {
   "cell_type": "markdown",
   "metadata": {},
   "source": [
    "## Get maximal safe set without exploration."
   ]
  },
  {
   "cell_type": "code",
   "execution_count": null,
   "metadata": {},
   "outputs": [],
   "source": [
    "for seed in seeds:\n",
    "    def_q = DefaultQAgent(env, confidence, *configure_light, strict_done=strict_done, safe_init=safe_init,\n",
    "                          baseline_dir=baseline_dir, baseline_step=baseline_step,\n",
    "                          save_dir=os.path.join(name, 'spec-tb-default-{}'.format(seed)))\n",
    "    def_stats = def_q.run(steps, episode_length, improve_interval=improve_interval,\n",
    "                          log_interval=log_interval, save_interval=save_interval, **auxiliary_args)\n",
    "    with open(os.path.join(name, 'spec-tb-default-{}'.format(seed), 'log.pkl'), 'wb') as f:\n",
    "        pickle.dump(def_stats, f, pickle.HIGHEST_PROTOCOL)\n",
    "    del def_q\n",
    "    del def_stats"
   ]
  },
  {
   "cell_type": "code",
   "execution_count": null,
   "metadata": {},
   "outputs": [],
   "source": []
  },
  {
   "cell_type": "markdown",
   "metadata": {},
   "source": [
    "## Get maximal safe set with Lyapunov (still no exploration)"
   ]
  },
  {
   "cell_type": "code",
   "execution_count": null,
   "metadata": {},
   "outputs": [],
   "source": [
    "for seed in seeds:\n",
    "    lyap_q = LyapunovQAgent(env, confidence, *configure_light, strict_done=strict_done, safe_init=safe_init,\n",
    "                            baseline_dir=baseline_dir, baseline_step=baseline_step,\n",
    "                            save_dir=os.path.join(name, 'spec-tb-lyapunov-{}'.format(seed)))\n",
    "    lyap_stats = lyap_q.run(steps, episode_length, improve_interval=improve_interval,\n",
    "                            log_interval=log_interval, save_interval=save_interval, **auxiliary_args)\n",
    "    with open(os.path.join(name, 'spec-tb-lyapunov-{}'.format(seed), 'log.pkl'), 'wb') as f:\n",
    "        pickle.dump(lyap_stats, f, pickle.HIGHEST_PROTOCOL)\n",
    "    del lyap_q\n",
    "    del lyap_stats"
   ]
  },
  {
   "cell_type": "code",
   "execution_count": null,
   "metadata": {},
   "outputs": [],
   "source": []
  },
  {
   "cell_type": "markdown",
   "metadata": {},
   "source": [
    "## Get maximal safe set with MSE."
   ]
  },
  {
   "cell_type": "code",
   "execution_count": null,
   "metadata": {},
   "outputs": [],
   "source": [
    "for seed in seeds:\n",
    "    exp_q = ExplorerQAgent(env, confidence, *configure_light, strict_done=strict_done, safe_init=safe_init,\n",
    "                           baseline_dir=baseline_dir, baseline_step=baseline_step,\n",
    "                           save_dir=os.path.join(name, 'spec-tb-explorer-{}'.format(seed)))\n",
    "    exp_stats = exp_q.run(steps, episode_length, improve_interval=improve_interval,\n",
    "                          log_interval=log_interval, save_interval=save_interval, **auxiliary_args)\n",
    "    with open(os.path.join(name, 'spec-tb-explorer-{}'.format(seed), 'log.pkl'), 'wb') as f:\n",
    "        pickle.dump(exp_stats, f, pickle.HIGHEST_PROTOCOL)\n",
    "    del exp_q\n",
    "    del exp_stats"
   ]
  },
  {
   "cell_type": "code",
   "execution_count": null,
   "metadata": {},
   "outputs": [],
   "source": []
  }
 ],
 "metadata": {
  "kernelspec": {
   "display_name": "Python 3 (drl_mujoco)",
   "language": "python",
   "name": "drl_mujoco"
  },
  "language_info": {
   "codemirror_mode": {
    "name": "ipython",
    "version": 3
   },
   "file_extension": ".py",
   "mimetype": "text/x-python",
   "name": "python",
   "nbconvert_exporter": "python",
   "pygments_lexer": "ipython3",
   "version": "3.7.0"
  }
 },
 "nbformat": 4,
 "nbformat_minor": 4
}
