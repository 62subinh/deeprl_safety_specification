{
 "cells": [
  {
   "cell_type": "code",
   "execution_count": null,
   "metadata": {},
   "outputs": [],
   "source": [
    "%load_ext autoreload\n",
    "%autoreload 2\n",
    "%matplotlib inline"
   ]
  },
  {
   "cell_type": "code",
   "execution_count": null,
   "metadata": {},
   "outputs": [],
   "source": [
    "from tensorboard.backend.event_processing.event_accumulator import EventAccumulator\n",
    "from cplex.exceptions import CplexSolverError\n",
    "import matplotlib\n",
    "import matplotlib.pyplot as plt\n",
    "matplotlib.rcParams['figure.dpi'] = 216\n",
    "import numpy as np\n",
    "import cv2\n",
    "from cv2 import resize\n",
    "from PIL import Image\n",
    "from gym.wrappers import Monitor\n",
    "import glob\n",
    "import pickle\n",
    "import os\n",
    "import seaborn as sns\n",
    "sns.set()"
   ]
  },
  {
   "cell_type": "markdown",
   "metadata": {},
   "source": [
    "# Reacher"
   ]
  },
  {
   "cell_type": "markdown",
   "metadata": {},
   "source": [
    "* Load experiment setups."
   ]
  },
  {
   "cell_type": "code",
   "execution_count": null,
   "metadata": {
    "scrolled": true
   },
   "outputs": [],
   "source": [
    "env_name = 'reacher'\n",
    "episode_length = 300\n",
    "confidence = 0.8\n",
    "grid_points = 21\n",
    "\n",
    "name = '{}-{}'.format(int(episode_length), env_name)"
   ]
  },
  {
   "cell_type": "code",
   "execution_count": null,
   "metadata": {},
   "outputs": [],
   "source": [
    "steps = int(2e6)\n",
    "log_interval = int(1e4)\n",
    "save_interval= int(1e5)"
   ]
  },
  {
   "cell_type": "code",
   "execution_count": null,
   "metadata": {},
   "outputs": [],
   "source": [
    "PI = np.pi\n",
    "ans = []\n",
    "\n",
    "for param_2 in range(grid_points):\n",
    "    pos_2 = 2 * PI * param_2 / (grid_points - 1) - PI\n",
    "    for param_1 in range(grid_points):\n",
    "        pos_1 = 2 * PI * param_1 / (grid_points - 1) - PI\n",
    "        \n",
    "        safety = (np.abs(0.1 * np.sin(pos_1) + 0.11 * np.sin(pos_1 + pos_2)) <= 0.1) * 1.\n",
    "        ans.append(safety)\n",
    "\n",
    "ans = np.array(ans)\n",
    "max_safe_set = np.sum(ans >= confidence)"
   ]
  },
  {
   "cell_type": "code",
   "execution_count": null,
   "metadata": {},
   "outputs": [],
   "source": [
    "baseline_dir = os.path.join(name, 'ddpg-initial')\n",
    "baseline_step = int(0)\n",
    "\n",
    "bl_map = np.load(os.path.join(baseline_dir, '{}-reachability-map.npz'.format(int(baseline_step))))['arr_0']"
   ]
  },
  {
   "cell_type": "code",
   "execution_count": null,
   "metadata": {},
   "outputs": [],
   "source": [
    "init_found = np.sum((bl_map <= 1. - confidence) * (ans >= confidence))\n",
    "init_notsafe = np.sum((bl_map <= 1. - confidence) * (ans < confidence))\n",
    "init_error = np.mean((bl_map - ans) ** 2)"
   ]
  },
  {
   "cell_type": "markdown",
   "metadata": {},
   "source": [
    "* List of seeds, figure-related arguments."
   ]
  },
  {
   "cell_type": "code",
   "execution_count": null,
   "metadata": {},
   "outputs": [],
   "source": [
    "bl_seeds = list(range(8001, 8011))\n",
    "lyap_seeds = list(range(8001, 8011))\n",
    "exp_seeds = list(range(8201, 8210)) + [8211]"
   ]
  },
  {
   "cell_type": "code",
   "execution_count": null,
   "metadata": {},
   "outputs": [],
   "source": [
    "fig_kwargs = {'format': 'eps',\n",
    "              'dpi': 216,\n",
    "              'rasterized': True,\n",
    "              'bbox_inches': 'tight',\n",
    "              'pad_inches': 0,\n",
    "              'frameon': False,\n",
    "             }\n",
    "# Figsize default: (6., 4.); do not change this"
   ]
  },
  {
   "cell_type": "code",
   "execution_count": null,
   "metadata": {},
   "outputs": [],
   "source": []
  },
  {
   "cell_type": "markdown",
   "metadata": {},
   "source": [
    "## Compute necessary statistics."
   ]
  },
  {
   "cell_type": "code",
   "execution_count": null,
   "metadata": {},
   "outputs": [],
   "source": [
    "ckpts = int(steps // save_interval)\n",
    "xaxis = np.array(range(0, ckpts+1)) * save_interval"
   ]
  },
  {
   "cell_type": "code",
   "execution_count": null,
   "metadata": {},
   "outputs": [],
   "source": [
    "ans = ans.reshape((ans.size,))"
   ]
  },
  {
   "cell_type": "code",
   "execution_count": null,
   "metadata": {},
   "outputs": [],
   "source": [
    "def get_stats(seeds, dir_name):\n",
    "\n",
    "    error = []\n",
    "    found = []\n",
    "    notsafe = []\n",
    "    cover = []\n",
    "\n",
    "    for seed in seeds:\n",
    "        map_prev = np.load(os.path.join(baseline_dir, '{}-reachability-map.npz'.format(int(baseline_step))))['arr_0']\n",
    "        for i in range(1, ckpts+1):\n",
    "            map_now = np.load(os.path.join(name, '{}-{}'.format(dir_name, seed),\n",
    "                                           '{}-reachability-map.npz'.format(int(save_interval * i))))['arr_0']\n",
    "            found.append(np.sum((map_now <= 1. - confidence) * (ans >= confidence)))\n",
    "            notsafe.append( np.sum((map_now <= 1. - confidence) * (ans < confidence)))\n",
    "            error.append(np.mean((map_now - ans) ** 2))\n",
    "            cover.append( np.sum((map_now  <= 1. - confidence) * (map_prev <= 1. - confidence)) / np.sum(map_prev <= 1. - confidence) )\n",
    "\n",
    "            map_prev[:] = map_now[:]\n",
    "            del map_now\n",
    "        del map_prev\n",
    "\n",
    "    error = np.array(error).reshape((len(seeds), ckpts))\n",
    "    found = np.array(found).reshape((len(seeds), ckpts))\n",
    "    notsafe = np.array(notsafe).reshape((len(seeds), ckpts))\n",
    "    cover = np.array(cover).reshape((len(seeds), ckpts))\n",
    "    \n",
    "    return error, found, notsafe, cover"
   ]
  },
  {
   "cell_type": "code",
   "execution_count": null,
   "metadata": {},
   "outputs": [],
   "source": [
    "b1_error, b1_found, b1_notsafe, b1_cover = get_stats(bl_seeds, 'spec-def-ddpg')# double Q, double replay"
   ]
  },
  {
   "cell_type": "code",
   "execution_count": null,
   "metadata": {},
   "outputs": [],
   "source": [
    "l1_error, l1_found, l1_notsafe, l1_cover = get_stats(lyap_seeds, 'spec-lyap-ddpg')# double Q"
   ]
  },
  {
   "cell_type": "code",
   "execution_count": null,
   "metadata": {},
   "outputs": [],
   "source": [
    "e1_error, e1_found, e1_notsafe, e1_cover = get_stats(exp_seeds, 'spec-exp-ddpg')# double Q, double replay, explorer only"
   ]
  },
  {
   "cell_type": "code",
   "execution_count": null,
   "metadata": {},
   "outputs": [],
   "source": []
  },
  {
   "cell_type": "markdown",
   "metadata": {},
   "source": [
    "# Option 1: Create a state space color map"
   ]
  },
  {
   "cell_type": "markdown",
   "metadata": {},
   "source": [
    "## Get the color maps."
   ]
  },
  {
   "cell_type": "code",
   "execution_count": null,
   "metadata": {},
   "outputs": [],
   "source": [
    "ans = np.array(ans).reshape((grid_points, grid_points))"
   ]
  },
  {
   "cell_type": "code",
   "execution_count": null,
   "metadata": {},
   "outputs": [],
   "source": [
    "def get_reachability(name, logdir, seeds, ckpts, reshape=True, reference=None):\n",
    "    reachability_list = []\n",
    "    for seed in seeds:\n",
    "        tmp = []\n",
    "        for i in range(1, ckpts+1):\n",
    "            a = np.load(os.path.join(name, '{}-{}'.format(logdir, seed),\n",
    "                                     '{}-reachability-map.npz'.format(int(save_interval * i))))['arr_0']\n",
    "            tmp.append(a)\n",
    "            del a\n",
    "        tmp = np.array(tmp)\n",
    "        reachability_list.append(tmp)\n",
    "    if reference is None:\n",
    "        reachability_list = np.array(reachability_list).mean(0)\n",
    "    else:\n",
    "        idx = np.argmax(reference[:, -1])\n",
    "        reachability_list = np.array(reachability_list)[idx, ...]\n",
    "    if reshape:\n",
    "        try:\n",
    "            reachability_list = reachability_list.reshape((ckpts, grid_points, grid_points))\n",
    "        except ValueError:\n",
    "            print(\"Reshape unavailable.\")\n",
    "    return reachability_list"
   ]
  },
  {
   "cell_type": "code",
   "execution_count": null,
   "metadata": {},
   "outputs": [],
   "source": [
    "ckpts = int(steps // save_interval)\n",
    "xaxis = save_interval * np.array(range(1, ckpts+1))#(np.array(range(1, ckpts+1))-0.5)"
   ]
  },
  {
   "cell_type": "code",
   "execution_count": null,
   "metadata": {},
   "outputs": [],
   "source": [
    "bl_list = get_reachability(name, 'spec-def-ddpg', bl_seeds, ckpts, reshape=True, reference=b1_found)\n",
    "lyap_list = get_reachability(name, 'spec-lyap-ddpg', lyap_seeds, ckpts, reshape=True, reference=l1_found)\n",
    "exp_list = get_reachability(name, 'spec-exp-ddpg', exp_seeds, ckpts, reshape=True, reference=e1_found)"
   ]
  },
  {
   "cell_type": "code",
   "execution_count": null,
   "metadata": {},
   "outputs": [],
   "source": []
  },
  {
   "cell_type": "markdown",
   "metadata": {},
   "source": [
    "## Create the sequence of images (run just once)"
   ]
  },
  {
   "cell_type": "code",
   "execution_count": null,
   "metadata": {},
   "outputs": [],
   "source": [
    "for idx in range(ckpts):\n",
    "    fig, axes = plt.subplots(1, 3, sharey=True, figsize=(16,5))\n",
    "    \n",
    "    # Show False-positive and True-positive altogether.\n",
    "    im0 = axes[0].imshow((1.-bl_list[idx] >= confidence) * (ans.reshape((grid_points, grid_points)) >= confidence)\n",
    "                         + (1.-bl_list[idx] >= confidence) * (ans.reshape((grid_points, grid_points)) < confidence) * 0.5,\n",
    "                         cmap='inferno', extent=[-180., +180., +180., -180.,], aspect=1.)\n",
    "    im1 = axes[1].imshow((1.-lyap_list[idx-1] >= confidence) * (ans.reshape((grid_points, grid_points)) >= confidence)\n",
    "                         + (1.-lyap_list[idx-1] >= confidence) * (ans.reshape((grid_points, grid_points)) < confidence) * 0.5,\n",
    "                         cmap='inferno', extent=[-180., +180., +180., -180.,], aspect=1.)\n",
    "    im2 = axes[2].imshow((1.-exp_list[idx-1] >= confidence) * (ans >= confidence)\n",
    "                         + (1.-exp_list[idx-1] >= confidence) * (ans < confidence) * 0.5,\n",
    "                         cmap='inferno', extent=[-180., +180., +180., -180.,], aspect=1.)\n",
    "\n",
    "    axes[0].set_title('Baseline')\n",
    "    axes[1].set_title('LSS')\n",
    "    axes[2].set_title('ESS (ours)')\n",
    "    \n",
    "    im0.set_clim(0., 1.)\n",
    "    im1.set_clim(0., 1.)\n",
    "    im2.set_clim(0., 1.)\n",
    "\n",
    "    for ax in reversed(axes):\n",
    "        ax.set_xlabel('Angle 1 (degree)')# center\n",
    "        ax.set_xticks(np.arange(-180., 180.+1, 60.))\n",
    "        ax.set_ylabel('Angle 2 (degree)')# arm tip\n",
    "        ax.set_yticks(np.arange(-180., 180.+1, 60.))\n",
    "#        ax.get_yaxis().set_visible(False)\n",
    "        ax.patch.set_facecolor('none')\n",
    "        ax.patch.set_alpha(0)\n",
    "        ax.grid(False)\n",
    "    \n",
    "    fig.set_dpi(216)\n",
    "    fig.patch.set_facecolor('none')\n",
    "    fig.patch.set_alpha(0)\n",
    "    fig.tight_layout()\n",
    "    fig.savefig(os.path.join(name, 'visualize-frame-{}.png'.format(idx)),\n",
    "                format='png', facecolor=fig.get_facecolor(), edgecolor='none')"
   ]
  },
  {
   "cell_type": "code",
   "execution_count": null,
   "metadata": {},
   "outputs": [],
   "source": []
  },
  {
   "cell_type": "markdown",
   "metadata": {},
   "source": [
    "## Create the video"
   ]
  },
  {
   "cell_type": "code",
   "execution_count": null,
   "metadata": {},
   "outputs": [],
   "source": [
    "img_array = []\n",
    "\n",
    "# Sources:\n",
    "# https://theailearner.com/2018/10/15/creating-video-from-images-using-opencv-python/\n",
    "# https://stackoverflow.com/questions/30509573/writing-an-mp4-video-using-python-opencv\n",
    "\n",
    "for idx in range(ckpts):\n",
    "    fn = os.path.join(name, 'visualize-frame-{}.png'.format(idx))\n",
    "    img = cv2.imread(fn)\n",
    "    height, width, layers = img.shape\n",
    "    size = (width, height)\n",
    "    img_array.append(img)\n",
    "\n",
    "#out = cv2.VideoWriter(os.path.join(name, 'visualize.mp4'), cv2.VideoWriter_fourcc(*'DIVX'), 15, size)\n",
    "out = cv2.VideoWriter(os.path.join(name, 'visualize.mp4'), cv2.VideoWriter_fourcc(*'MP4V'), 4, size)\n",
    "\n",
    "for i in range(len(img_array)):\n",
    "    out.write(img_array[i])\n",
    "out.release()"
   ]
  },
  {
   "cell_type": "markdown",
   "metadata": {},
   "source": [
    "## Create the GIF image"
   ]
  },
  {
   "cell_type": "code",
   "execution_count": null,
   "metadata": {},
   "outputs": [],
   "source": [
    "del img_array\n",
    "# Source: https://stackoverflow.com/questions/753190/programmatically-generate-video-or-animated-gif-in-python\n",
    "\n",
    "# filepaths\n",
    "fp_in = os.path.join(name, 'visualize-frame-*.png')\n",
    "fp_out = os.path.join(name, 'visualize.gif')\n",
    "\n",
    "# https://pillow.readthedocs.io/en/stable/handbook/image-file-formats.html#gif\n",
    "img, *imgs = [Image.open(f) for f in sorted(glob.glob(fp_in))]\n",
    "img.save(fp=fp_out, format='gif', append_images=imgs,\n",
    "         save_all=True, duration=200, loop=0)"
   ]
  },
  {
   "cell_type": "code",
   "execution_count": null,
   "metadata": {},
   "outputs": [],
   "source": []
  },
  {
   "cell_type": "markdown",
   "metadata": {},
   "source": [
    "# Option 2: Create a Mujoco trial"
   ]
  },
  {
   "cell_type": "code",
   "execution_count": null,
   "metadata": {},
   "outputs": [],
   "source": [
    "import torch.nn as nn\n",
    "from lyapunov_reachability.speculation_ddpg import DefaultDDPG, ExplorerDDPG, DefaultBCQ, ExplorerBCQ, LyapunovDDPG, LyapExpDDPG\n",
    "from lyapunov_reachability.common.networks import Mlp, Cnn"
   ]
  },
  {
   "cell_type": "code",
   "execution_count": null,
   "metadata": {},
   "outputs": [],
   "source": [
    "from complex_envs.reacher import FixedReacherEnv\n",
    "\n",
    "episode_length = 300\n",
    "confidence = 0.8\n",
    "batch_size = 256\n",
    "gamma = 1. - 1e-3\n",
    "strict_done = True\n",
    "n = 11\n",
    "grid_points = 21\n",
    "replay_size = int(4e5)\n",
    "\n",
    "env = FixedReacherEnv()\n",
    "name = '{}-reacher'.format(int(episode_length))\n",
    "\n",
    "ckpts = int(steps // save_interval)\n",
    "xaxis = save_interval * np.array(range(1, ckpts+1))#(np.array(range(1, ckpts+1))-0.5)"
   ]
  },
  {
   "cell_type": "code",
   "execution_count": null,
   "metadata": {},
   "outputs": [],
   "source": [
    "steps = xaxis[4]"
   ]
  },
  {
   "cell_type": "code",
   "execution_count": null,
   "metadata": {},
   "outputs": [],
   "source": [
    "del bl_act, lyap_act, exp_act"
   ]
  },
  {
   "cell_type": "code",
   "execution_count": null,
   "metadata": {},
   "outputs": [],
   "source": [
    "bl_act = DefaultDDPG.load(os.path.join(name, 'spec-def-ddpg-{}'.format(\n",
    "    bl_seeds[np.argmax(b1_found[:, -1])])), steps, env=env)"
   ]
  },
  {
   "cell_type": "code",
   "execution_count": null,
   "metadata": {},
   "outputs": [],
   "source": [
    "lyap_act = LyapunovDDPG.load(os.path.join(name, 'spec-lyap-ddpg-{}'.format(\n",
    "    lyap_seeds[np.argmax(l1_found[:, -1])])), steps, env=env)"
   ]
  },
  {
   "cell_type": "code",
   "execution_count": null,
   "metadata": {},
   "outputs": [],
   "source": [
    "exp_act = ExplorerDDPG.load(os.path.join(name, 'spec-exp-ddpg-{}'.format(8204)), steps, env=env)\n",
    "#    exp_seeds[np.argmax(e1_found[:, -1])])), steps, env=env)"
   ]
  },
  {
   "cell_type": "code",
   "execution_count": null,
   "metadata": {},
   "outputs": [],
   "source": [
    "# env = Monitor(env, './video', force=True)\n",
    "frame_size = (180, 180)"
   ]
  },
  {
   "cell_type": "code",
   "execution_count": null,
   "metadata": {},
   "outputs": [],
   "source": [
    "def run_once(model):\n",
    "    obs, done = env.reset(), False\n",
    "\n",
    "    episode_rew = 0\n",
    "    episode_safety = 1.\n",
    "    frames = []\n",
    "    t = 0\n",
    "\n",
    "    while not done:\n",
    "        if t > episode_length or episode_safety == 0.:\n",
    "            break\n",
    "\n",
    "    #     env.render()\n",
    "        frame = env.render(mode='rgb_array')\n",
    "        frames.append(resize(frame, dsize=frame_size,))\n",
    "\n",
    "        # Do step\n",
    "        obs, rew, done, info = env.step(model.step(obs))\n",
    "        episode_safety = episode_safety * info['safety']\n",
    "        episode_rew = gamma * episode_rew + rew\n",
    "        t += 1\n",
    "\n",
    "    print(\"Total runtime: %.4f\" % t)\n",
    "    print(\"Total reward: %.4f\" % episode_rew)\n",
    "    print(\"Total safety: %.4f\" % episode_safety)\n",
    "    env.close()\n",
    "    return frames"
   ]
  },
  {
   "cell_type": "code",
   "execution_count": null,
   "metadata": {},
   "outputs": [],
   "source": [
    "bl_frames = run_once(bl_act)\n",
    "lyap_frames = run_once(lyap_act)\n",
    "exp_frames = run_once(exp_act)"
   ]
  },
  {
   "cell_type": "code",
   "execution_count": null,
   "metadata": {},
   "outputs": [],
   "source": []
  },
  {
   "cell_type": "markdown",
   "metadata": {},
   "source": [
    "## Create the video \\& GIF image"
   ]
  },
  {
   "cell_type": "code",
   "execution_count": null,
   "metadata": {},
   "outputs": [],
   "source": [
    "img_array = []\n",
    "\n",
    "# Sources:\n",
    "# https://theailearner.com/2018/10/15/creating-video-from-images-using-opencv-python/\n",
    "# https://stackoverflow.com/questions/30509573/writing-an-mp4-video-using-python-opencv\n",
    "\n",
    "img_array = []\n",
    "\n",
    "for t in range(episode_length+1):\n",
    "    img = np.ones((240, 620, 3), dtype=np.int) * 255\n",
    "    \n",
    "    if len(bl_frames) <= t:\n",
    "        bl_fr = bl_frames[-1]\n",
    "    else:\n",
    "        bl_fr = bl_frames[t]\n",
    "\n",
    "    if len(lyap_frames) <= t:\n",
    "        lyap_fr = lyap_frames[-1]\n",
    "    else:\n",
    "        lyap_fr = lyap_frames[t]\n",
    "\n",
    "    if len(exp_frames) <= t:\n",
    "        exp_fr = exp_frames[-1]\n",
    "    else:\n",
    "        exp_fr = exp_frames[t]\n",
    "\n",
    "    img[30:210, 15:195, :] = bl_fr\n",
    "    img[30:210, 210:390, :] = lyap_fr\n",
    "    img[30:210, 405:585, :] = exp_fr\n",
    "            \n",
    "    height, width, layers = img.shape\n",
    "    size = (width, height)\n",
    "    \n",
    "    cv2.imwrite(os.path.join(name, \"trial-frame-{}-{}.jpg\".format(steps, t)), img)\n",
    "    img_array.append(np.uint8(img))\n",
    "\n",
    "#out = cv2.VideoWriter(os.path.join(name, 'visualize.mp4'), cv2.VideoWriter_fourcc(*'DIVX'), 15, size)\n",
    "out = cv2.VideoWriter(os.path.join(name, 'trial-{}.mp4'.format(steps)), cv2.VideoWriter_fourcc(*'MP4V'), 15, size)\n",
    "\n",
    "for i in range(len(img_array)):\n",
    "    out.write(img_array[i])\n",
    "out.release()"
   ]
  },
  {
   "cell_type": "markdown",
   "metadata": {},
   "source": [
    "## Create the GIF image"
   ]
  },
  {
   "cell_type": "code",
   "execution_count": null,
   "metadata": {},
   "outputs": [],
   "source": [
    "del img_array\n",
    "# Source: https://stackoverflow.com/questions/753190/programmatically-generate-video-or-animated-gif-in-python\n",
    "\n",
    "# filepaths\n",
    "fp_in = os.path.join(name, 'trial-frame-{}-*.jpg'.format(steps))\n",
    "fp_out = os.path.join(name, 'trial-{}.gif'.format(steps))\n",
    "\n",
    "# https://pillow.readthedocs.io/en/stable/handbook/image-file-formats.html#gif\n",
    "img, *imgs = [Image.open(f) for f in sorted(glob.glob(fp_in))]\n",
    "img.save(fp=fp_out, format='gif', append_images=imgs,\n",
    "         save_all=True, duration=200, loop=0)"
   ]
  },
  {
   "cell_type": "code",
   "execution_count": null,
   "metadata": {},
   "outputs": [],
   "source": []
  }
 ],
 "metadata": {
  "kernelspec": {
   "display_name": "Python 3 (drl_mujoco)",
   "language": "python",
   "name": "drl_mujoco"
  },
  "language_info": {
   "codemirror_mode": {
    "name": "ipython",
    "version": 3
   },
   "file_extension": ".py",
   "mimetype": "text/x-python",
   "name": "python",
   "nbconvert_exporter": "python",
   "pygments_lexer": "ipython3",
   "version": "3.7.0"
  }
 },
 "nbformat": 4,
 "nbformat_minor": 4
}
